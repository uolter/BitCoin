{
 "cells": [
  {
   "cell_type": "markdown",
   "metadata": {},
   "source": [
    "## USD vs EUR"
   ]
  },
  {
   "cell_type": "code",
   "execution_count": 39,
   "metadata": {
    "collapsed": false
   },
   "outputs": [
    {
     "name": "stdout",
     "output_type": "stream",
     "text": [
      "Using matplotlib backend: MacOSX\n"
     ]
    }
   ],
   "source": [
    "%matplotlib\n",
    "\n",
    "from datetime import datetime, timedelta\n",
    "from pandas.io.data import DataReader\n",
    "from pandas.io.parsers import read_csv\n",
    "\n",
    "FIN_SERVICE_PROVIDER = 'yahoo'\n",
    "PAST_DAYS = 60\n",
    "\n",
    "# SYMBOL = ['IBM', 'AAPL']\n",
    "SYMBOL = ['USD', 'EUR']\n",
    "\n",
    "# today\n",
    "t1 = datetime.now()\n",
    "# two months later\n",
    "t2 = t1 - timedelta(days=PAST_DAYS)\n",
    "\n",
    "df1  = DataReader(SYMBOL[0],  FIN_SERVICE_PROVIDER , t2, t1)\n",
    "df2  = DataReader(SYMBOL[1],  FIN_SERVICE_PROVIDER , t2, t1)"
   ]
  },
  {
   "cell_type": "markdown",
   "metadata": {},
   "source": [
    "### USD"
   ]
  },
  {
   "cell_type": "code",
   "execution_count": 40,
   "metadata": {
    "collapsed": false
   },
   "outputs": [
    {
     "data": {
      "text/html": [
       "<div style=\"max-height:1000px;max-width:1500px;overflow:auto;\">\n",
       "<table border=\"1\" class=\"dataframe\">\n",
       "  <thead>\n",
       "    <tr style=\"text-align: right;\">\n",
       "      <th></th>\n",
       "      <th>Open</th>\n",
       "      <th>High</th>\n",
       "      <th>Low</th>\n",
       "      <th>Close</th>\n",
       "      <th>Volume</th>\n",
       "      <th>Adj Close</th>\n",
       "    </tr>\n",
       "    <tr>\n",
       "      <th>Date</th>\n",
       "      <th></th>\n",
       "      <th></th>\n",
       "      <th></th>\n",
       "      <th></th>\n",
       "      <th></th>\n",
       "      <th></th>\n",
       "    </tr>\n",
       "  </thead>\n",
       "  <tbody>\n",
       "    <tr>\n",
       "      <th>2015-04-17</th>\n",
       "      <td>91.41</td>\n",
       "      <td>92.20</td>\n",
       "      <td>89.42</td>\n",
       "      <td>89.42</td>\n",
       "      <td>5700</td>\n",
       "      <td>89.42</td>\n",
       "    </tr>\n",
       "    <tr>\n",
       "      <th>2015-04-20</th>\n",
       "      <td>89.99</td>\n",
       "      <td>92.74</td>\n",
       "      <td>89.99</td>\n",
       "      <td>92.48</td>\n",
       "      <td>5500</td>\n",
       "      <td>92.48</td>\n",
       "    </tr>\n",
       "    <tr>\n",
       "      <th>2015-04-21</th>\n",
       "      <td>92.74</td>\n",
       "      <td>93.32</td>\n",
       "      <td>92.43</td>\n",
       "      <td>92.74</td>\n",
       "      <td>1900</td>\n",
       "      <td>92.74</td>\n",
       "    </tr>\n",
       "    <tr>\n",
       "      <th>2015-04-22</th>\n",
       "      <td>93.57</td>\n",
       "      <td>94.68</td>\n",
       "      <td>93.24</td>\n",
       "      <td>94.68</td>\n",
       "      <td>2200</td>\n",
       "      <td>94.68</td>\n",
       "    </tr>\n",
       "    <tr>\n",
       "      <th>2015-04-23</th>\n",
       "      <td>90.25</td>\n",
       "      <td>91.84</td>\n",
       "      <td>89.95</td>\n",
       "      <td>91.50</td>\n",
       "      <td>1600</td>\n",
       "      <td>91.50</td>\n",
       "    </tr>\n",
       "  </tbody>\n",
       "</table>\n",
       "</div>"
      ],
      "text/plain": [
       "             Open   High    Low  Close  Volume  Adj Close\n",
       "Date                                                     \n",
       "2015-04-17  91.41  92.20  89.42  89.42    5700      89.42\n",
       "2015-04-20  89.99  92.74  89.99  92.48    5500      92.48\n",
       "2015-04-21  92.74  93.32  92.43  92.74    1900      92.74\n",
       "2015-04-22  93.57  94.68  93.24  94.68    2200      94.68\n",
       "2015-04-23  90.25  91.84  89.95  91.50    1600      91.50"
      ]
     },
     "execution_count": 40,
     "metadata": {},
     "output_type": "execute_result"
    }
   ],
   "source": [
    "df1.tail()"
   ]
  },
  {
   "cell_type": "markdown",
   "metadata": {},
   "source": [
    "### EUR"
   ]
  },
  {
   "cell_type": "code",
   "execution_count": 41,
   "metadata": {
    "collapsed": false,
    "scrolled": true
   },
   "outputs": [
    {
     "data": {
      "text/html": [
       "<div style=\"max-height:1000px;max-width:1500px;overflow:auto;\">\n",
       "<table border=\"1\" class=\"dataframe\">\n",
       "  <thead>\n",
       "    <tr style=\"text-align: right;\">\n",
       "      <th></th>\n",
       "      <th>Open</th>\n",
       "      <th>High</th>\n",
       "      <th>Low</th>\n",
       "      <th>Close</th>\n",
       "      <th>Volume</th>\n",
       "      <th>Adj Close</th>\n",
       "    </tr>\n",
       "    <tr>\n",
       "      <th>Date</th>\n",
       "      <th></th>\n",
       "      <th></th>\n",
       "      <th></th>\n",
       "      <th></th>\n",
       "      <th></th>\n",
       "      <th></th>\n",
       "    </tr>\n",
       "  </thead>\n",
       "  <tbody>\n",
       "    <tr>\n",
       "      <th>2015-04-17</th>\n",
       "      <td>36.81</td>\n",
       "      <td>37.25</td>\n",
       "      <td>36.22</td>\n",
       "      <td>37.00</td>\n",
       "      <td>1071000</td>\n",
       "      <td>36.21</td>\n",
       "    </tr>\n",
       "    <tr>\n",
       "      <th>2015-04-20</th>\n",
       "      <td>37.00</td>\n",
       "      <td>37.14</td>\n",
       "      <td>36.55</td>\n",
       "      <td>36.99</td>\n",
       "      <td>279600</td>\n",
       "      <td>36.20</td>\n",
       "    </tr>\n",
       "    <tr>\n",
       "      <th>2015-04-21</th>\n",
       "      <td>37.20</td>\n",
       "      <td>37.47</td>\n",
       "      <td>36.55</td>\n",
       "      <td>36.90</td>\n",
       "      <td>379700</td>\n",
       "      <td>36.11</td>\n",
       "    </tr>\n",
       "    <tr>\n",
       "      <th>2015-04-22</th>\n",
       "      <td>36.80</td>\n",
       "      <td>37.70</td>\n",
       "      <td>36.62</td>\n",
       "      <td>36.90</td>\n",
       "      <td>374300</td>\n",
       "      <td>36.11</td>\n",
       "    </tr>\n",
       "    <tr>\n",
       "      <th>2015-04-23</th>\n",
       "      <td>36.89</td>\n",
       "      <td>37.05</td>\n",
       "      <td>36.61</td>\n",
       "      <td>36.80</td>\n",
       "      <td>302800</td>\n",
       "      <td>36.01</td>\n",
       "    </tr>\n",
       "  </tbody>\n",
       "</table>\n",
       "</div>"
      ],
      "text/plain": [
       "             Open   High    Low  Close   Volume  Adj Close\n",
       "Date                                                      \n",
       "2015-04-17  36.81  37.25  36.22  37.00  1071000      36.21\n",
       "2015-04-20  37.00  37.14  36.55  36.99   279600      36.20\n",
       "2015-04-21  37.20  37.47  36.55  36.90   379700      36.11\n",
       "2015-04-22  36.80  37.70  36.62  36.90   374300      36.11\n",
       "2015-04-23  36.89  37.05  36.61  36.80   302800      36.01"
      ]
     },
     "execution_count": 41,
     "metadata": {},
     "output_type": "execute_result"
    }
   ],
   "source": [
    "df2.tail()"
   ]
  },
  {
   "cell_type": "code",
   "execution_count": 35,
   "metadata": {
    "collapsed": false
   },
   "outputs": [
    {
     "data": {
      "text/plain": [
       "[<matplotlib.lines.Line2D at 0x10fae6850>]"
      ]
     },
     "execution_count": 35,
     "metadata": {},
     "output_type": "execute_result"
    },
    {
     "data": {
      "image/png": "[encoded data removed]",
      "text/plain": [
       "<matplotlib.figure.Figure at 0x10b7b58d0>"
      ]
     },
     "metadata": {},
     "output_type": "display_data"
    },
    {
     "data": {
      "image/png": "[encoded data removed]",
      "text/plain": [
       "<matplotlib.figure.Figure at 0x10d61bf50>"
      ]
     },
     "metadata": {},
     "output_type": "display_data"
    }
   ],
   "source": [
    "plt.figure(1)\n",
    "plt.subplot(211)\n",
    "plt.title(SYMBOL[0])\n",
    "plt.xlabel('days')\n",
    "plt.ylabel('close val.')\n",
    "plot(df1['Close'])\n",
    "\n",
    "plt.figure(2)\n",
    "plt.subplot(211)\n",
    "plt.title(SYMBOL[1])\n",
    "plt.xlabel('days')\n",
    "plt.ylabel('close val.')\n",
    "plot(df2['Close'])"
   ]
  },
  {
   "cell_type": "markdown",
   "metadata": {
    "collapsed": true
   },
   "source": [
    "## Bitcoin History vs EUR"
   ]
  },
  {
   "cell_type": "code",
   "execution_count": 46,
   "metadata": {
    "collapsed": false
   },
   "outputs": [
    {
     "data": {
      "text/html": [
       "<div style=\"max-height:1000px;max-width:1500px;overflow:auto;\">\n",
       "<table border=\"1\" class=\"dataframe\">\n",
       "  <thead>\n",
       "    <tr style=\"text-align: right;\">\n",
       "      <th></th>\n",
       "      <th>Date</th>\n",
       "      <th>Open</th>\n",
       "      <th>High</th>\n",
       "      <th>Low</th>\n",
       "      <th>Close</th>\n",
       "      <th>Volume (BTC)</th>\n",
       "      <th>Volume (Currency)</th>\n",
       "      <th>Weighted Price</th>\n",
       "    </tr>\n",
       "  </thead>\n",
       "  <tbody>\n",
       "    <tr>\n",
       "      <th>0</th>\n",
       "      <td>2015-04-23</td>\n",
       "      <td>217.96000</td>\n",
       "      <td>219.53726</td>\n",
       "      <td>213.69732</td>\n",
       "      <td>216.07424</td>\n",
       "      <td>2565.565405</td>\n",
       "      <td>556321.222937</td>\n",
       "      <td>216.841567</td>\n",
       "    </tr>\n",
       "    <tr>\n",
       "      <th>1</th>\n",
       "      <td>2015-04-22</td>\n",
       "      <td>219.18000</td>\n",
       "      <td>220.99990</td>\n",
       "      <td>215.79000</td>\n",
       "      <td>218.00000</td>\n",
       "      <td>2966.605362</td>\n",
       "      <td>647436.879653</td>\n",
       "      <td>218.241660</td>\n",
       "    </tr>\n",
       "    <tr>\n",
       "      <th>2</th>\n",
       "      <td>2015-04-21</td>\n",
       "      <td>208.73600</td>\n",
       "      <td>220.00000</td>\n",
       "      <td>208.39000</td>\n",
       "      <td>219.14000</td>\n",
       "      <td>3348.357437</td>\n",
       "      <td>708749.197792</td>\n",
       "      <td>211.670711</td>\n",
       "    </tr>\n",
       "    <tr>\n",
       "      <th>3</th>\n",
       "      <td>2015-04-20</td>\n",
       "      <td>206.92460</td>\n",
       "      <td>211.45871</td>\n",
       "      <td>206.30000</td>\n",
       "      <td>208.73084</td>\n",
       "      <td>2875.411730</td>\n",
       "      <td>602077.962728</td>\n",
       "      <td>209.388435</td>\n",
       "    </tr>\n",
       "    <tr>\n",
       "      <th>4</th>\n",
       "      <td>2015-04-19</td>\n",
       "      <td>207.83591</td>\n",
       "      <td>211.25000</td>\n",
       "      <td>206.47580</td>\n",
       "      <td>206.85460</td>\n",
       "      <td>792.255962</td>\n",
       "      <td>165759.762088</td>\n",
       "      <td>209.225011</td>\n",
       "    </tr>\n",
       "  </tbody>\n",
       "</table>\n",
       "</div>"
      ],
      "text/plain": [
       "         Date       Open       High        Low      Close  Volume (BTC)  \\\n",
       "0  2015-04-23  217.96000  219.53726  213.69732  216.07424   2565.565405   \n",
       "1  2015-04-22  219.18000  220.99990  215.79000  218.00000   2966.605362   \n",
       "2  2015-04-21  208.73600  220.00000  208.39000  219.14000   3348.357437   \n",
       "3  2015-04-20  206.92460  211.45871  206.30000  208.73084   2875.411730   \n",
       "4  2015-04-19  207.83591  211.25000  206.47580  206.85460    792.255962   \n",
       "\n",
       "   Volume (Currency)  Weighted Price  \n",
       "0      556321.222937      216.841567  \n",
       "1      647436.879653      218.241660  \n",
       "2      708749.197792      211.670711  \n",
       "3      602077.962728      209.388435  \n",
       "4      165759.762088      209.225011  "
      ]
     },
     "execution_count": 46,
     "metadata": {},
     "output_type": "execute_result"
    }
   ],
   "source": [
    "# BIT_COIN_CSV_URL = 'http://www.quandl.com/api/v1/datasets/BCHARTS/BITSTAMPUSD.csv'\n",
    "BIT_COIN_CSV_URL = 'http://www.quandl.com/api/v1/datasets/BCHARTS/KRAKENEUR.csv'\n",
    "\n",
    "bcdf = read_csv(BIT_COIN_CSV_URL)\n",
    "bcdf = bcdf[bcdf['Date']> t2.strftime(\"%Y-%m-%d\")]\n",
    "bcdf.head()"
   ]
  },
  {
   "cell_type": "code",
   "execution_count": 49,
   "metadata": {
    "collapsed": false
   },
   "outputs": [
    {
     "data": {
      "text/plain": [
       "[<matplotlib.lines.Line2D at 0x10d395650>]"
      ]
     },
     "execution_count": 49,
     "metadata": {},
     "output_type": "execute_result"
    },
    {
     "data": {
      "image/png": "[encoded data removed]",
      "text/plain": [
       "<matplotlib.figure.Figure at 0x10fb43e50>"
      ]
     },
     "metadata": {},
     "output_type": "display_data"
    }
   ],
   "source": [
    "plt.title(\"BitCoin\")\n",
    "plt.xlabel('days')\n",
    "plt.ylabel('close val.(EUR)')\n",
    "plot(bcdf['Close'])\n"
   ]
  },
  {
   "cell_type": "markdown",
   "metadata": {},
   "source": [
    "### Close Price Statistics"
   ]
  },
  {
   "cell_type": "markdown",
   "metadata": {},
   "source": [
    "#### Mean (in 60 Days)"
   ]
  },
  {
   "cell_type": "code",
   "execution_count": 50,
   "metadata": {
    "collapsed": false
   },
   "outputs": [
    {
     "data": {
      "text/plain": [
       "234.97629711864406"
      ]
     },
     "execution_count": 50,
     "metadata": {},
     "output_type": "execute_result"
    }
   ],
   "source": [
    "bcdf['Close'].mean()"
   ]
  },
  {
   "cell_type": "markdown",
   "metadata": {},
   "source": [
    "### Variance (in 60 days)"
   ]
  },
  {
   "cell_type": "code",
   "execution_count": 51,
   "metadata": {
    "collapsed": false
   },
   "outputs": [
    {
     "data": {
      "text/plain": [
       "424.8130569661775"
      ]
     },
     "execution_count": 51,
     "metadata": {},
     "output_type": "execute_result"
    }
   ],
   "source": [
    "bcdf['Close'].var()"
   ]
  },
  {
   "cell_type": "code",
   "execution_count": null,
   "metadata": {
    "collapsed": true
   },
   "outputs": [],
   "source": []
  }
 ],
 "metadata": {
  "kernelspec": {
   "display_name": "Python 2",
   "language": "python",
   "name": "python2"
  },
  "language_info": {
   "codemirror_mode": {
    "name": "ipython",
    "version": 2
   },
   "file_extension": ".py",
   "mimetype": "text/x-python",
   "name": "python",
   "nbconvert_exporter": "python",
   "pygments_lexer": "ipython2",
   "version": "2.7.7"
  }
 },
 "nbformat": 4,
 "nbformat_minor": 0
}
