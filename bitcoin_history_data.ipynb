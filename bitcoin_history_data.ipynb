{
 "cells": [
  {
   "cell_type": "markdown",
   "metadata": {},
   "source": [
    "\n",
    "## USD vs EUR"
   ]
  },
  {
   "cell_type": "code",
   "execution_count": 110,
   "metadata": {
    "collapsed": false
   },
   "outputs": [],
   "source": [
    "%matplotlib inline\n",
    "\n",
    "from datetime import datetime, timedelta\n",
    "from pandas.io.data import DataReader\n",
    "from pandas.io.parsers import read_csv\n",
    "import matplotlib.pyplot as plt\n",
    "import requests\n",
    "\n",
    "FIN_SERVICE_PROVIDER = 'yahoo'\n",
    "PAST_DAYS = 60\n",
    "\n",
    "# SYMBOL = ['IBM', 'AAPL']\n",
    "SYMBOL = ['USD', 'EUR']\n",
    "\n",
    "# today\n",
    "t1 = datetime.now()\n",
    "# two months later\n",
    "t2 = t1 - timedelta(days=PAST_DAYS)\n",
    "\n",
    "df1  = DataReader(SYMBOL[0],  FIN_SERVICE_PROVIDER , t2, t1)\n",
    "df2  = DataReader(SYMBOL[1],  FIN_SERVICE_PROVIDER , t2, t1)"
   ]
  },
  {
   "cell_type": "code",
   "execution_count": 111,
   "metadata": {
    "collapsed": false
   },
   "outputs": [
    {
     "data": {
      "text/html": [
       "<div style=\"max-height:1000px;max-width:1500px;overflow:auto;\">\n",
       "<table border=\"1\" class=\"dataframe\">\n",
       "  <thead>\n",
       "    <tr style=\"text-align: right;\">\n",
       "      <th></th>\n",
       "      <th>Open</th>\n",
       "      <th>High</th>\n",
       "      <th>Low</th>\n",
       "      <th>Close</th>\n",
       "      <th>Volume</th>\n",
       "      <th>Adj Close</th>\n",
       "    </tr>\n",
       "    <tr>\n",
       "      <th>Date</th>\n",
       "      <th></th>\n",
       "      <th></th>\n",
       "      <th></th>\n",
       "      <th></th>\n",
       "      <th></th>\n",
       "      <th></th>\n",
       "    </tr>\n",
       "  </thead>\n",
       "  <tbody>\n",
       "    <tr>\n",
       "      <th>2015-04-23</th>\n",
       "      <td>90.25</td>\n",
       "      <td>91.84</td>\n",
       "      <td>89.95</td>\n",
       "      <td>91.50</td>\n",
       "      <td>1600</td>\n",
       "      <td>91.50</td>\n",
       "    </tr>\n",
       "    <tr>\n",
       "      <th>2015-04-24</th>\n",
       "      <td>91.56</td>\n",
       "      <td>91.56</td>\n",
       "      <td>87.23</td>\n",
       "      <td>88.20</td>\n",
       "      <td>8200</td>\n",
       "      <td>88.20</td>\n",
       "    </tr>\n",
       "    <tr>\n",
       "      <th>2015-04-27</th>\n",
       "      <td>88.14</td>\n",
       "      <td>90.43</td>\n",
       "      <td>88.08</td>\n",
       "      <td>88.08</td>\n",
       "      <td>4000</td>\n",
       "      <td>88.08</td>\n",
       "    </tr>\n",
       "    <tr>\n",
       "      <th>2015-04-28</th>\n",
       "      <td>87.48</td>\n",
       "      <td>89.28</td>\n",
       "      <td>87.00</td>\n",
       "      <td>88.76</td>\n",
       "      <td>2800</td>\n",
       "      <td>88.76</td>\n",
       "    </tr>\n",
       "    <tr>\n",
       "      <th>2015-04-29</th>\n",
       "      <td>87.68</td>\n",
       "      <td>89.00</td>\n",
       "      <td>86.93</td>\n",
       "      <td>88.26</td>\n",
       "      <td>3500</td>\n",
       "      <td>88.26</td>\n",
       "    </tr>\n",
       "  </tbody>\n",
       "</table>\n",
       "</div>"
      ],
      "text/plain": [
       "             Open   High    Low  Close  Volume  Adj Close\n",
       "Date                                                     \n",
       "2015-04-23  90.25  91.84  89.95  91.50    1600      91.50\n",
       "2015-04-24  91.56  91.56  87.23  88.20    8200      88.20\n",
       "2015-04-27  88.14  90.43  88.08  88.08    4000      88.08\n",
       "2015-04-28  87.48  89.28  87.00  88.76    2800      88.76\n",
       "2015-04-29  87.68  89.00  86.93  88.26    3500      88.26"
      ]
     },
     "execution_count": 111,
     "metadata": {},
     "output_type": "execute_result"
    }
   ],
   "source": [
    "df1.tail()"
   ]
  },
  {
   "cell_type": "markdown",
   "metadata": {},
   "source": [
    "### USD"
   ]
  },
  {
   "cell_type": "markdown",
   "metadata": {},
   "source": [
    "### EUR"
   ]
  },
  {
   "cell_type": "code",
   "execution_count": 112,
   "metadata": {
    "collapsed": false,
    "scrolled": true
   },
   "outputs": [
    {
     "data": {
      "text/html": [
       "<div style=\"max-height:1000px;max-width:1500px;overflow:auto;\">\n",
       "<table border=\"1\" class=\"dataframe\">\n",
       "  <thead>\n",
       "    <tr style=\"text-align: right;\">\n",
       "      <th></th>\n",
       "      <th>Open</th>\n",
       "      <th>High</th>\n",
       "      <th>Low</th>\n",
       "      <th>Close</th>\n",
       "      <th>Volume</th>\n",
       "      <th>Adj Close</th>\n",
       "    </tr>\n",
       "    <tr>\n",
       "      <th>Date</th>\n",
       "      <th></th>\n",
       "      <th></th>\n",
       "      <th></th>\n",
       "      <th></th>\n",
       "      <th></th>\n",
       "      <th></th>\n",
       "    </tr>\n",
       "  </thead>\n",
       "  <tbody>\n",
       "    <tr>\n",
       "      <th>2015-04-23</th>\n",
       "      <td>36.89</td>\n",
       "      <td>37.05</td>\n",
       "      <td>36.61</td>\n",
       "      <td>36.80</td>\n",
       "      <td>302800</td>\n",
       "      <td>35.99</td>\n",
       "    </tr>\n",
       "    <tr>\n",
       "      <th>2015-04-24</th>\n",
       "      <td>36.80</td>\n",
       "      <td>37.14</td>\n",
       "      <td>36.50</td>\n",
       "      <td>36.64</td>\n",
       "      <td>332200</td>\n",
       "      <td>35.83</td>\n",
       "    </tr>\n",
       "    <tr>\n",
       "      <th>2015-04-27</th>\n",
       "      <td>36.53</td>\n",
       "      <td>36.95</td>\n",
       "      <td>36.53</td>\n",
       "      <td>36.80</td>\n",
       "      <td>210000</td>\n",
       "      <td>35.99</td>\n",
       "    </tr>\n",
       "    <tr>\n",
       "      <th>2015-04-28</th>\n",
       "      <td>36.80</td>\n",
       "      <td>36.80</td>\n",
       "      <td>36.20</td>\n",
       "      <td>36.44</td>\n",
       "      <td>612700</td>\n",
       "      <td>35.63</td>\n",
       "    </tr>\n",
       "    <tr>\n",
       "      <th>2015-04-29</th>\n",
       "      <td>36.59</td>\n",
       "      <td>36.85</td>\n",
       "      <td>35.55</td>\n",
       "      <td>35.73</td>\n",
       "      <td>545300</td>\n",
       "      <td>34.94</td>\n",
       "    </tr>\n",
       "  </tbody>\n",
       "</table>\n",
       "</div>"
      ],
      "text/plain": [
       "             Open   High    Low  Close  Volume  Adj Close\n",
       "Date                                                     \n",
       "2015-04-23  36.89  37.05  36.61  36.80  302800      35.99\n",
       "2015-04-24  36.80  37.14  36.50  36.64  332200      35.83\n",
       "2015-04-27  36.53  36.95  36.53  36.80  210000      35.99\n",
       "2015-04-28  36.80  36.80  36.20  36.44  612700      35.63\n",
       "2015-04-29  36.59  36.85  35.55  35.73  545300      34.94"
      ]
     },
     "execution_count": 112,
     "metadata": {},
     "output_type": "execute_result"
    }
   ],
   "source": [
    "df2.tail()"
   ]
  },
  {
   "cell_type": "code",
   "execution_count": 113,
   "metadata": {
    "collapsed": false
   },
   "outputs": [
    {
     "data": {
      "text/plain": [
       "[<matplotlib.lines.Line2D at 0x105b16c10>]"
      ]
     },
     "execution_count": 113,
     "metadata": {},
     "output_type": "execute_result"
    },
    {
     "data": {
      "image/png": "[encoded data removed]",
      "text/plain": [
       "<matplotlib.figure.Figure at 0x107721b90>"
      ]
     },
     "metadata": {},
     "output_type": "display_data"
    },
    {
     "data": {
      "image/png": "[encoded data removed]",
      "text/plain": [
       "<matplotlib.figure.Figure at 0x105ac7450>"
      ]
     },
     "metadata": {},
     "output_type": "display_data"
    }
   ],
   "source": [
    "plt.figure(1)\n",
    "plt.subplot(211)\n",
    "plt.title(SYMBOL[0])\n",
    "plt.xlabel('days')\n",
    "plt.ylabel('close val.')\n",
    "plt.plot(df1['Close'])\n",
    "\n",
    "plt.figure(2)\n",
    "plt.subplot(211)\n",
    "plt.title(SYMBOL[1])\n",
    "plt.xlabel('days')\n",
    "plt.ylabel('close val.')\n",
    "plt.plot(df2['Close'])"
   ]
  },
  {
   "cell_type": "markdown",
   "metadata": {
    "collapsed": true
   },
   "source": [
    "## Bitcoin History vs EUR"
   ]
  },
  {
   "cell_type": "code",
   "execution_count": 137,
   "metadata": {
    "collapsed": false
   },
   "outputs": [],
   "source": [
    "# BIT_COIN_CSV_URL = 'http://www.quandl.com/api/v1/datasets/BCHARTS/BITSTAMPUSD.csv'\n",
    "BIT_COIN_CSV_URL = 'http://www.quandl.com/api/v1/datasets/BCHARTS/KRAKENEUR.csv'\n",
    "\n",
    "bcdf = read_csv(BIT_COIN_CSV_URL)\n",
    "bcdf = bcdf[bcdf['Date']> t2.strftime(\"%Y-%m-%d\")]\n",
    "bcdf = bcdf.iloc[::-1]\n"
   ]
  },
  {
   "cell_type": "code",
   "execution_count": 115,
   "metadata": {
    "collapsed": false
   },
   "outputs": [
    {
     "data": {
      "text/plain": [
       "[<matplotlib.lines.Line2D at 0x1086aa650>]"
      ]
     },
     "execution_count": 115,
     "metadata": {},
     "output_type": "execute_result"
    },
    {
     "data": {
      "image/png": "[encoded data removed]",
      "text/plain": [
       "<matplotlib.figure.Figure at 0x108172b10>"
      ]
     },
     "metadata": {},
     "output_type": "display_data"
    }
   ],
   "source": [
    "plt.title(\"BitCoin\")\n",
    "plt.xlabel('days')\n",
    "plt.ylabel('close val.(EUR)')\n",
    "plt.plot(bcdf['Close'])"
   ]
  },
  {
   "cell_type": "markdown",
   "metadata": {},
   "source": [
    "### Close Price Statistics"
   ]
  },
  {
   "cell_type": "markdown",
   "metadata": {},
   "source": [
    "#### Mean (in 60 Days)"
   ]
  },
  {
   "cell_type": "code",
   "execution_count": 116,
   "metadata": {
    "collapsed": false
   },
   "outputs": [
    {
     "data": {
      "text/plain": [
       "234.11443474576271"
      ]
     },
     "execution_count": 116,
     "metadata": {},
     "output_type": "execute_result"
    }
   ],
   "source": [
    "bcdf['Close'].mean()"
   ]
  },
  {
   "cell_type": "markdown",
   "metadata": {},
   "source": [
    "#### Variance (in 60 days)"
   ]
  },
  {
   "cell_type": "code",
   "execution_count": 117,
   "metadata": {
    "collapsed": false,
    "scrolled": true
   },
   "outputs": [
    {
     "data": {
      "text/plain": [
       "461.60200560864479"
      ]
     },
     "execution_count": 117,
     "metadata": {},
     "output_type": "execute_result"
    }
   ],
   "source": [
    "bcdf['Close'].var()"
   ]
  },
  {
   "cell_type": "code",
   "execution_count": 118,
   "metadata": {
    "collapsed": false
   },
   "outputs": [
    {
     "data": {
      "image/png": "[encoded data removed]",
      "text/plain": [
       "<matplotlib.figure.Figure at 0x105ba2a50>"
      ]
     },
     "metadata": {},
     "output_type": "display_data"
    }
   ],
   "source": [
    "fig = plt.figure()\n",
    "ax1 = fig.add_subplot(1,3,1)\n",
    "ax1.set_title(SYMBOL[0])\n",
    "# ax1.title(SYMBOL[0])\n",
    "ax1 = df1.boxplot(column='Close', return_type='axes')\n",
    "\n",
    "\n",
    "ax2 = fig.add_subplot(1,3,2)\n",
    "# ax2.plt.title(SYMBOL[1])\n",
    "ax2.set_title(SYMBOL[1])\n",
    "ax2 = df2.boxplot(column='Close', return_type='axes')\n",
    "\n",
    "ax3 = fig.add_subplot(1,3,3)\n",
    "# ax3.plt.title(SYMBOL[1])\n",
    "ax3.set_title('Bit Coin')\n",
    "ax3 = bcdf.boxplot(column='Close', return_type='axes')\n",
    "\n"
   ]
  },
  {
   "cell_type": "markdown",
   "metadata": {
    "collapsed": true
   },
   "source": [
    "### Gains"
   ]
  },
  {
   "cell_type": "code",
   "execution_count": 119,
   "metadata": {
    "collapsed": false
   },
   "outputs": [
    {
     "name": "stdout",
     "output_type": "stream",
     "text": [
      "Real time value 208.4385 &euro;\n"
     ]
    }
   ],
   "source": [
    "REAL_TIME_VALE_API = 'http://api.coindesk.com/v1/bpi/currentprice.json'\n",
    "# REAL_TIME_VALE_API = \"http://btc.blockr.io/api/v1/coin/info\"\n",
    "r = requests.get(REAL_TIME_VALE_API)\n",
    "cur_value = 1\n",
    "if r.status_code == 200:\n",
    "    _j = r.json()['bpi']['EUR']\n",
    "    cur_value = float(_j['rate'])\n",
    "    print(\"Real time value {} {}\".format(_j['rate'], _j['symbol']))"
   ]
  },
  {
   "cell_type": "markdown",
   "metadata": {
    "collapsed": true
   },
   "source": [
    "Price per coin: €208.87"
   ]
  },
  {
   "cell_type": "code",
   "execution_count": 120,
   "metadata": {
    "collapsed": false
   },
   "outputs": [
    {
     "name": "stdout",
     "output_type": "stream",
     "text": [
      "Gain -0.4315\n"
     ]
    }
   ],
   "source": [
    "price_x_coin = 208.87\n",
    "gain= float(cur_value) - float(price_x_coin)\n",
    "print(\"Gain {}\".format(gain))"
   ]
  },
  {
   "cell_type": "markdown",
   "metadata": {
    "collapsed": true
   },
   "source": [
    "### Predict\n"
   ]
  },
  {
   "cell_type": "markdown",
   "metadata": {},
   "source": [
    "### Errors evaluation"
   ]
  },
  {
   "cell_type": "code",
   "execution_count": 151,
   "metadata": {
    "collapsed": false
   },
   "outputs": [
    {
     "data": {
      "text/plain": [
       "[<matplotlib.lines.Line2D at 0x109142210>]"
      ]
     },
     "execution_count": 151,
     "metadata": {},
     "output_type": "execute_result"
    },
    {
     "data": {
      "image/png": "[encoded data removed]",
      "text/plain": [
       "<matplotlib.figure.Figure at 0x107db3d50>"
      ]
     },
     "metadata": {},
     "output_type": "display_data"
    }
   ],
   "source": [
    "X = [ [x] for x in bcdf.index]\n",
    "y = bcdf['Close']\n",
    "\n",
    "\n",
    "from sklearn.neighbors import KNeighborsRegressor\n",
    "neigh = KNeighborsRegressor(n_neighbors=5)\n",
    "neigh.fit(X[::-1], list(y.values[::-1]))\n",
    "\n",
    "Y = [list(neigh.predict([[i]]))[0] for i in range(len(X), 0)]\n",
    "\n",
    "plt.title(\"Predicted BitCoin value\")\n",
    "plt.xlabel('days')\n",
    "plt.ylabel('close val.(EUR)')\n",
    "plt.plot(Y)"
   ]
  },
  {
   "cell_type": "code",
   "execution_count": 145,
   "metadata": {
    "collapsed": false
   },
   "outputs": [
    {
     "data": {
      "text/plain": [
       "[<matplotlib.lines.Line2D at 0x109006d90>]"
      ]
     },
     "execution_count": 145,
     "metadata": {},
     "output_type": "execute_result"
    },
    {
     "data": {
      "image/png": "[encoded data removed]",
      "text/plain": [
       "<matplotlib.figure.Figure at 0x107d9e4d0>"
      ]
     },
     "metadata": {},
     "output_type": "display_data"
    }
   ],
   "source": [
    "errors = [ Yi-yi for Yi, yi in zip(Y[::-1], y[::-1])]\n",
    "\n",
    "plt.plot(errors)"
   ]
  },
  {
   "cell_type": "code",
   "execution_count": 146,
   "metadata": {
    "collapsed": false
   },
   "outputs": [
    {
     "name": "stdout",
     "output_type": "stream",
     "text": [
      "Error mean: 0.0306733559322 \n"
     ]
    }
   ],
   "source": [
    "import numpy as np\n",
    "\n",
    "print(\"Error mean: {} \".format(np.mean(errors)))"
   ]
  },
  {
   "cell_type": "markdown",
   "metadata": {},
   "source": [
    "### Tomorrow's prediction"
   ]
  },
  {
   "cell_type": "code",
   "execution_count": 148,
   "metadata": {
    "collapsed": false
   },
   "outputs": [
    {
     "name": "stdout",
     "output_type": "stream",
     "text": [
      "Tomorrow's predicted closing value [ 206.42983]\n"
     ]
    }
   ],
   "source": [
    "print(\"Tomorrow's predicted closing value {}\".format(neigh.predict([[-1]])))"
   ]
  },
  {
   "cell_type": "code",
   "execution_count": 150,
   "metadata": {
    "collapsed": false
   },
   "outputs": [
    {
     "ename": "IndexError",
     "evalue": "tuple index out of range",
     "output_type": "error",
     "traceback": [
      "\u001b[0;31m---------------------------------------------------------------------------\u001b[0m",
      "\u001b[0;31mIndexError\u001b[0m                                Traceback (most recent call last)",
      "\u001b[0;32m<ipython-input-150-e9a4f88938c0>\u001b[0m in \u001b[0;36m<module>\u001b[0;34m()\u001b[0m\n\u001b[0;32m----> 1\u001b[0;31m \u001b[0;32mprint\u001b[0m\u001b[0;34m(\u001b[0m\u001b[0;34m\"Current error {}\"\u001b[0m\u001b[0;34m.\u001b[0m\u001b[0mformat\u001b[0m\u001b[0;34m(\u001b[0m\u001b[0;34m)\u001b[0m\u001b[0;34m)\u001b[0m\u001b[0;34m\u001b[0m\u001b[0m\n\u001b[0m",
      "\u001b[0;31mIndexError\u001b[0m: tuple index out of range"
     ]
    }
   ],
   "source": [
    "print(\"Current error {}\".format())"
   ]
  },
  {
   "cell_type": "code",
   "execution_count": null,
   "metadata": {
    "collapsed": true
   },
   "outputs": [],
   "source": []
  }
 ],
 "metadata": {
  "kernelspec": {
   "display_name": "Python 2",
   "language": "python",
   "name": "python2"
  },
  "language_info": {
   "codemirror_mode": {
    "name": "ipython",
    "version": 2
   },
   "file_extension": ".py",
   "mimetype": "text/x-python",
   "name": "python",
   "nbconvert_exporter": "python",
   "pygments_lexer": "ipython2",
   "version": "2.7.7"
  }
 },
 "nbformat": 4,
 "nbformat_minor": 0
}
