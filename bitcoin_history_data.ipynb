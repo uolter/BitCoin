{
 "cells": [
  {
   "cell_type": "markdown",
   "metadata": {},
   "source": [
    "\n",
    "## USD vs EUR"
   ]
  },
  {
   "cell_type": "code",
   "execution_count": 59,
   "metadata": {
    "collapsed": false
   },
   "outputs": [
    {
     "name": "stdout",
     "output_type": "stream",
     "text": [
      "Today 2015-05-20 15:37:24.321514\n"
     ]
    }
   ],
   "source": [
    "%matplotlib inline\n",
    "\n",
    "from datetime import datetime, timedelta\n",
    "from pandas import Index\n",
    "from pandas.io.data import DataReader\n",
    "from pandas.io.parsers import read_csv\n",
    "import matplotlib.pyplot as plt\n",
    "import requests\n",
    "\n",
    "FIN_SERVICE_PROVIDER = 'yahoo'\n",
    "PAST_DAYS = 60\n",
    "\n",
    "# SYMBOL = ['IBM', 'AAPL']\n",
    "SYMBOL = ['USD', 'EUR']\n",
    "\n",
    "# today\n",
    "t1 = datetime.now()\n",
    "# two months later\n",
    "t2 = t1 - timedelta(days=PAST_DAYS)\n",
    "\n",
    "df1  = DataReader(SYMBOL[0],  FIN_SERVICE_PROVIDER , t2, t1)\n",
    "df2  = DataReader(SYMBOL[1],  FIN_SERVICE_PROVIDER , t2, t1)\n",
    "\n",
    "\n",
    "from datetime import datetime\n",
    "\n",
    "print('Today {}'.format(datetime.now()))"
   ]
  },
  {
   "cell_type": "markdown",
   "metadata": {
    "collapsed": true
   },
   "source": [
    "### USD"
   ]
  },
  {
   "cell_type": "code",
   "execution_count": 60,
   "metadata": {
    "collapsed": false
   },
   "outputs": [
    {
     "data": {
      "text/html": [
       "<div style=\"max-height:1000px;max-width:1500px;overflow:auto;\">\n",
       "<table border=\"1\" class=\"dataframe\">\n",
       "  <thead>\n",
       "    <tr style=\"text-align: right;\">\n",
       "      <th></th>\n",
       "      <th>Open</th>\n",
       "      <th>High</th>\n",
       "      <th>Low</th>\n",
       "      <th>Close</th>\n",
       "      <th>Volume</th>\n",
       "      <th>Adj Close</th>\n",
       "    </tr>\n",
       "    <tr>\n",
       "      <th>Date</th>\n",
       "      <th></th>\n",
       "      <th></th>\n",
       "      <th></th>\n",
       "      <th></th>\n",
       "      <th></th>\n",
       "      <th></th>\n",
       "    </tr>\n",
       "  </thead>\n",
       "  <tbody>\n",
       "    <tr>\n",
       "      <th>2015-03-23</th>\n",
       "      <td>96.17</td>\n",
       "      <td>96.33</td>\n",
       "      <td>93.99</td>\n",
       "      <td>93.99</td>\n",
       "      <td>9000</td>\n",
       "      <td>93.85796</td>\n",
       "    </tr>\n",
       "    <tr>\n",
       "      <th>2015-03-24</th>\n",
       "      <td>95.23</td>\n",
       "      <td>95.23</td>\n",
       "      <td>93.12</td>\n",
       "      <td>93.25</td>\n",
       "      <td>1900</td>\n",
       "      <td>93.11900</td>\n",
       "    </tr>\n",
       "    <tr>\n",
       "      <th>2015-03-25</th>\n",
       "      <td>93.26</td>\n",
       "      <td>93.26</td>\n",
       "      <td>83.90</td>\n",
       "      <td>83.90</td>\n",
       "      <td>15300</td>\n",
       "      <td>83.90000</td>\n",
       "    </tr>\n",
       "    <tr>\n",
       "      <th>2015-03-26</th>\n",
       "      <td>81.70</td>\n",
       "      <td>85.30</td>\n",
       "      <td>79.39</td>\n",
       "      <td>84.51</td>\n",
       "      <td>11400</td>\n",
       "      <td>84.51000</td>\n",
       "    </tr>\n",
       "    <tr>\n",
       "      <th>2015-03-27</th>\n",
       "      <td>84.63</td>\n",
       "      <td>91.59</td>\n",
       "      <td>83.88</td>\n",
       "      <td>91.37</td>\n",
       "      <td>13000</td>\n",
       "      <td>91.37000</td>\n",
       "    </tr>\n",
       "  </tbody>\n",
       "</table>\n",
       "</div>"
      ],
      "text/plain": [
       "             Open   High    Low  Close  Volume  Adj Close\n",
       "Date                                                     \n",
       "2015-03-23  96.17  96.33  93.99  93.99    9000   93.85796\n",
       "2015-03-24  95.23  95.23  93.12  93.25    1900   93.11900\n",
       "2015-03-25  93.26  93.26  83.90  83.90   15300   83.90000\n",
       "2015-03-26  81.70  85.30  79.39  84.51   11400   84.51000\n",
       "2015-03-27  84.63  91.59  83.88  91.37   13000   91.37000"
      ]
     },
     "execution_count": 60,
     "metadata": {},
     "output_type": "execute_result"
    }
   ],
   "source": [
    "df1.head()"
   ]
  },
  {
   "cell_type": "markdown",
   "metadata": {},
   "source": [
    "### EUR"
   ]
  },
  {
   "cell_type": "code",
   "execution_count": 61,
   "metadata": {
    "collapsed": false,
    "scrolled": true
   },
   "outputs": [
    {
     "data": {
      "text/html": [
       "<div style=\"max-height:1000px;max-width:1500px;overflow:auto;\">\n",
       "<table border=\"1\" class=\"dataframe\">\n",
       "  <thead>\n",
       "    <tr style=\"text-align: right;\">\n",
       "      <th></th>\n",
       "      <th>Open</th>\n",
       "      <th>High</th>\n",
       "      <th>Low</th>\n",
       "      <th>Close</th>\n",
       "      <th>Volume</th>\n",
       "      <th>Adj Close</th>\n",
       "    </tr>\n",
       "    <tr>\n",
       "      <th>Date</th>\n",
       "      <th></th>\n",
       "      <th></th>\n",
       "      <th></th>\n",
       "      <th></th>\n",
       "      <th></th>\n",
       "      <th></th>\n",
       "    </tr>\n",
       "  </thead>\n",
       "  <tbody>\n",
       "    <tr>\n",
       "      <th>2015-03-23</th>\n",
       "      <td>33.00</td>\n",
       "      <td>33.16</td>\n",
       "      <td>32.71</td>\n",
       "      <td>32.87</td>\n",
       "      <td>494500</td>\n",
       "      <td>32.18</td>\n",
       "    </tr>\n",
       "    <tr>\n",
       "      <th>2015-03-24</th>\n",
       "      <td>32.98</td>\n",
       "      <td>32.98</td>\n",
       "      <td>32.61</td>\n",
       "      <td>32.69</td>\n",
       "      <td>439000</td>\n",
       "      <td>32.00</td>\n",
       "    </tr>\n",
       "    <tr>\n",
       "      <th>2015-03-25</th>\n",
       "      <td>32.73</td>\n",
       "      <td>32.87</td>\n",
       "      <td>32.00</td>\n",
       "      <td>32.29</td>\n",
       "      <td>283400</td>\n",
       "      <td>31.61</td>\n",
       "    </tr>\n",
       "    <tr>\n",
       "      <th>2015-03-26</th>\n",
       "      <td>32.27</td>\n",
       "      <td>32.27</td>\n",
       "      <td>31.47</td>\n",
       "      <td>31.50</td>\n",
       "      <td>403000</td>\n",
       "      <td>30.83</td>\n",
       "    </tr>\n",
       "    <tr>\n",
       "      <th>2015-03-27</th>\n",
       "      <td>31.51</td>\n",
       "      <td>32.65</td>\n",
       "      <td>31.51</td>\n",
       "      <td>32.65</td>\n",
       "      <td>361500</td>\n",
       "      <td>31.96</td>\n",
       "    </tr>\n",
       "  </tbody>\n",
       "</table>\n",
       "</div>"
      ],
      "text/plain": [
       "             Open   High    Low  Close  Volume  Adj Close\n",
       "Date                                                     \n",
       "2015-03-23  33.00  33.16  32.71  32.87  494500      32.18\n",
       "2015-03-24  32.98  32.98  32.61  32.69  439000      32.00\n",
       "2015-03-25  32.73  32.87  32.00  32.29  283400      31.61\n",
       "2015-03-26  32.27  32.27  31.47  31.50  403000      30.83\n",
       "2015-03-27  31.51  32.65  31.51  32.65  361500      31.96"
      ]
     },
     "execution_count": 61,
     "metadata": {},
     "output_type": "execute_result"
    }
   ],
   "source": [
    "df2.head()"
   ]
  },
  {
   "cell_type": "code",
   "execution_count": 62,
   "metadata": {
    "collapsed": false,
    "scrolled": true
   },
   "outputs": [
    {
     "data": {
      "text/plain": [
       "[<matplotlib.lines.Line2D at 0x10f6a26d0>]"
      ]
     },
     "execution_count": 62,
     "metadata": {},
     "output_type": "execute_result"
    },
    {
     "data": {
      "image/png": "[encoded data removed]",
      "text/plain": [
       "<matplotlib.figure.Figure at 0x10f1f4b10>"
      ]
     },
     "metadata": {},
     "output_type": "display_data"
    },
    {
     "data": {
      "image/png": "[encoded data removed]",
      "text/plain": [
       "<matplotlib.figure.Figure at 0x10f59ca90>"
      ]
     },
     "metadata": {},
     "output_type": "display_data"
    }
   ],
   "source": [
    "plt.figure(1)\n",
    "plt.subplot(211)\n",
    "plt.title(SYMBOL[0])\n",
    "plt.xlabel('days')\n",
    "plt.ylabel('close val.')\n",
    "plt.plot(df1['Close'])\n",
    "\n",
    "plt.figure(2)\n",
    "plt.subplot(211)\n",
    "plt.title(SYMBOL[1])\n",
    "plt.xlabel('days')\n",
    "plt.ylabel('close val.')\n",
    "plt.plot(df2['Close'])"
   ]
  },
  {
   "cell_type": "markdown",
   "metadata": {
    "collapsed": true
   },
   "source": [
    "## Bitcoin History vs EUR"
   ]
  },
  {
   "cell_type": "code",
   "execution_count": 63,
   "metadata": {
    "collapsed": false
   },
   "outputs": [],
   "source": [
    "BIT_COIN_CSV_URL = 'http://www.quandl.com/api/v1/datasets/BCHARTS/KRAKENEUR.csv'\n",
    "\n",
    "bcdf = read_csv(BIT_COIN_CSV_URL)\n",
    "bcdf = bcdf[bcdf['Date']> t2.strftime(\"%Y-%m-%d\")]\n",
    "#bcdf = bcdf.iloc[::-1]\n",
    "bcdf = bcdf.sort(['Date'], ascending=[True])\n",
    "# reindexing\n",
    "bcdf.index = Index(range(0, len(bcdf)))"
   ]
  },
  {
   "cell_type": "code",
   "execution_count": 64,
   "metadata": {
    "collapsed": false
   },
   "outputs": [
    {
     "data": {
      "text/html": [
       "<div style=\"max-height:1000px;max-width:1500px;overflow:auto;\">\n",
       "<table border=\"1\" class=\"dataframe\">\n",
       "  <thead>\n",
       "    <tr style=\"text-align: right;\">\n",
       "      <th></th>\n",
       "      <th>Date</th>\n",
       "      <th>Open</th>\n",
       "      <th>High</th>\n",
       "      <th>Low</th>\n",
       "      <th>Close</th>\n",
       "      <th>Volume (BTC)</th>\n",
       "      <th>Volume (Currency)</th>\n",
       "      <th>Weighted Price</th>\n",
       "    </tr>\n",
       "  </thead>\n",
       "  <tbody>\n",
       "    <tr>\n",
       "      <th>47</th>\n",
       "      <td>2015-05-08</td>\n",
       "      <td>210.29998</td>\n",
       "      <td>218.00000</td>\n",
       "      <td>209.60000</td>\n",
       "      <td>214.01000</td>\n",
       "      <td>3105.615037</td>\n",
       "      <td>662858.469173</td>\n",
       "      <td>213.438711</td>\n",
       "    </tr>\n",
       "    <tr>\n",
       "      <th>48</th>\n",
       "      <td>2015-05-09</td>\n",
       "      <td>214.01000</td>\n",
       "      <td>217.36000</td>\n",
       "      <td>210.99999</td>\n",
       "      <td>213.55736</td>\n",
       "      <td>909.960985</td>\n",
       "      <td>194578.915411</td>\n",
       "      <td>213.832152</td>\n",
       "    </tr>\n",
       "    <tr>\n",
       "      <th>49</th>\n",
       "      <td>2015-05-10</td>\n",
       "      <td>213.55738</td>\n",
       "      <td>216.69370</td>\n",
       "      <td>211.37032</td>\n",
       "      <td>212.91127</td>\n",
       "      <td>987.074102</td>\n",
       "      <td>210837.080878</td>\n",
       "      <td>213.598027</td>\n",
       "    </tr>\n",
       "    <tr>\n",
       "      <th>50</th>\n",
       "      <td>2015-05-11</td>\n",
       "      <td>213.09996</td>\n",
       "      <td>217.39374</td>\n",
       "      <td>212.00000</td>\n",
       "      <td>215.00000</td>\n",
       "      <td>2612.180869</td>\n",
       "      <td>560448.878709</td>\n",
       "      <td>214.552095</td>\n",
       "    </tr>\n",
       "    <tr>\n",
       "      <th>51</th>\n",
       "      <td>2015-05-12</td>\n",
       "      <td>214.99999</td>\n",
       "      <td>215.72998</td>\n",
       "      <td>213.12104</td>\n",
       "      <td>213.85003</td>\n",
       "      <td>1839.101450</td>\n",
       "      <td>394344.393433</td>\n",
       "      <td>214.422317</td>\n",
       "    </tr>\n",
       "  </tbody>\n",
       "</table>\n",
       "</div>"
      ],
      "text/plain": [
       "          Date       Open       High        Low      Close  Volume (BTC)  \\\n",
       "47  2015-05-08  210.29998  218.00000  209.60000  214.01000   3105.615037   \n",
       "48  2015-05-09  214.01000  217.36000  210.99999  213.55736    909.960985   \n",
       "49  2015-05-10  213.55738  216.69370  211.37032  212.91127    987.074102   \n",
       "50  2015-05-11  213.09996  217.39374  212.00000  215.00000   2612.180869   \n",
       "51  2015-05-12  214.99999  215.72998  213.12104  213.85003   1839.101450   \n",
       "\n",
       "    Volume (Currency)  Weighted Price  \n",
       "47      662858.469173      213.438711  \n",
       "48      194578.915411      213.832152  \n",
       "49      210837.080878      213.598027  \n",
       "50      560448.878709      214.552095  \n",
       "51      394344.393433      214.422317  "
      ]
     },
     "execution_count": 64,
     "metadata": {},
     "output_type": "execute_result"
    }
   ],
   "source": [
    "bcdf.tail()"
   ]
  },
  {
   "cell_type": "code",
   "execution_count": 65,
   "metadata": {
    "collapsed": false
   },
   "outputs": [
    {
     "data": {
      "text/plain": [
       "[<matplotlib.lines.Line2D at 0x111ebfcd0>]"
      ]
     },
     "execution_count": 65,
     "metadata": {},
     "output_type": "execute_result"
    },
    {
     "data": {
      "image/png": "[encoded data removed]",
      "text/plain": [
       "<matplotlib.figure.Figure at 0x10b8d0ad0>"
      ]
     },
     "metadata": {},
     "output_type": "display_data"
    }
   ],
   "source": [
    "plt.title(\"BitCoin\")\n",
    "plt.xlabel('days')\n",
    "plt.ylabel('close val.(EUR)')\n",
    "# mean line.\n",
    "plt.axhline(bcdf['Close'].mean(), color='green', linewidth=1)\n",
    "plt.axhline(bcdf['Close'].max(), color='red', linewidth=1)\n",
    "plt.plot(bcdf['Close'])"
   ]
  },
  {
   "cell_type": "markdown",
   "metadata": {},
   "source": [
    "### Close Price Statistics"
   ]
  },
  {
   "cell_type": "markdown",
   "metadata": {},
   "source": [
    "#### Mean (in 60 Days)"
   ]
  },
  {
   "cell_type": "code",
   "execution_count": 66,
   "metadata": {
    "collapsed": false
   },
   "outputs": [
    {
     "data": {
      "text/plain": [
       "218.98867788461541"
      ]
     },
     "execution_count": 66,
     "metadata": {},
     "output_type": "execute_result"
    }
   ],
   "source": [
    "bcdf['Close'].mean()"
   ]
  },
  {
   "cell_type": "markdown",
   "metadata": {},
   "source": [
    "#### Variance (in 60 days)"
   ]
  },
  {
   "cell_type": "code",
   "execution_count": 67,
   "metadata": {
    "collapsed": false,
    "scrolled": true
   },
   "outputs": [
    {
     "data": {
      "text/plain": [
       "121.14644641546057"
      ]
     },
     "execution_count": 67,
     "metadata": {},
     "output_type": "execute_result"
    }
   ],
   "source": [
    "bcdf['Close'].var()"
   ]
  },
  {
   "cell_type": "code",
   "execution_count": 68,
   "metadata": {
    "collapsed": false
   },
   "outputs": [
    {
     "data": {
      "image/png": "[encoded data removed]",
      "text/plain": [
       "<matplotlib.figure.Figure at 0x1117a8a90>"
      ]
     },
     "metadata": {},
     "output_type": "display_data"
    }
   ],
   "source": [
    "fig = plt.figure()\n",
    "ax1 = fig.add_subplot(1,3,1)\n",
    "ax1.set_title(SYMBOL[0])\n",
    "# ax1.title(SYMBOL[0])\n",
    "ax1 = df1.boxplot(column='Close', return_type='axes')\n",
    "\n",
    "ax2 = fig.add_subplot(1,3,2)\n",
    "# ax2.plt.title(SYMBOL[1])\n",
    "ax2.set_title(SYMBOL[1])\n",
    "ax2 = df2.boxplot(column='Close', return_type='axes')\n",
    "\n",
    "ax3 = fig.add_subplot(1,3,3)\n",
    "# ax3.plt.title(SYMBOL[1])\n",
    "ax3.set_title('Bit Coin')\n",
    "ax3 = bcdf.boxplot(column='Close', return_type='axes')\n",
    "\n"
   ]
  },
  {
   "cell_type": "markdown",
   "metadata": {
    "collapsed": true
   },
   "source": [
    "### Gains"
   ]
  },
  {
   "cell_type": "code",
   "execution_count": 69,
   "metadata": {
    "collapsed": false
   },
   "outputs": [
    {
     "name": "stdout",
     "output_type": "stream",
     "text": [
      "Real time value 210.4838 &euro;\n"
     ]
    }
   ],
   "source": [
    "REAL_TIME_VALE_API = 'http://api.coindesk.com/v1/bpi/currentprice.json'\n",
    "# REAL_TIME_VALE_API = \"http://btc.blockr.io/api/v1/coin/info\"\n",
    "r = requests.get(REAL_TIME_VALE_API)\n",
    "cur_value = 1\n",
    "if r.status_code == 200:\n",
    "    _j = r.json()['bpi']['EUR']\n",
    "    cur_value = float(_j['rate'])\n",
    "    print(\"Real time value {} {}\".format(_j['rate'], _j['symbol']))"
   ]
  },
  {
   "cell_type": "markdown",
   "metadata": {
    "collapsed": true
   },
   "source": [
    "Price per coin: **€208.87** \n",
    "This is the value in Euro I invested in **bitcoin**."
   ]
  },
  {
   "cell_type": "code",
   "execution_count": 70,
   "metadata": {
    "collapsed": false
   },
   "outputs": [
    {
     "name": "stdout",
     "output_type": "stream",
     "text": [
      "Gain 1.6138\n",
      "0.7726336956%\n"
     ]
    }
   ],
   "source": [
    "price_x_coin = 208.87\n",
    "gain= float(cur_value) - float(price_x_coin)\n",
    "print(\"Gain {}\".format(gain))\n",
    "\n",
    "print(\"{}%\".format(gain*100/price_x_coin))"
   ]
  },
  {
   "cell_type": "markdown",
   "metadata": {
    "collapsed": true
   },
   "source": [
    "### Predict\n"
   ]
  },
  {
   "cell_type": "markdown",
   "metadata": {},
   "source": [
    "### Errors evaluation"
   ]
  },
  {
   "cell_type": "code",
   "execution_count": 71,
   "metadata": {
    "collapsed": false
   },
   "outputs": [
    {
     "data": {
      "text/plain": [
       "[<matplotlib.lines.Line2D at 0x11228acd0>]"
      ]
     },
     "execution_count": 71,
     "metadata": {},
     "output_type": "execute_result"
    },
    {
     "data": {
      "image/png": "[encoded data removed]",
      "text/plain": [
       "<matplotlib.figure.Figure at 0x111772510>"
      ]
     },
     "metadata": {},
     "output_type": "display_data"
    }
   ],
   "source": [
    "X = [ [x] for x in bcdf.index]\n",
    "y = bcdf['Close']\n",
    "\n",
    "from sklearn.neighbors import KNeighborsRegressor\n",
    "neigh = KNeighborsRegressor(n_neighbors=5)\n",
    "neigh.fit(X, list(y.values))\n",
    "\n",
    "Y = [list(neigh.predict([[i]]))[0] for i in range(len(X))]\n",
    "\n",
    "plt.title(\"Predicted BitCoin value\")\n",
    "plt.xlabel('days')\n",
    "plt.ylabel('close val.(EUR)')\n",
    "plt.plot(Y)"
   ]
  },
  {
   "cell_type": "code",
   "execution_count": 72,
   "metadata": {
    "collapsed": false
   },
   "outputs": [
    {
     "data": {
      "text/plain": [
       "[<matplotlib.lines.Line2D at 0x1123a4310>]"
      ]
     },
     "execution_count": 72,
     "metadata": {},
     "output_type": "execute_result"
    },
    {
     "data": {
      "image/png": "[encoded data removed]",
      "text/plain": [
       "<matplotlib.figure.Figure at 0x11179eed0>"
      ]
     },
     "metadata": {},
     "output_type": "display_data"
    }
   ],
   "source": [
    "errors = [ Yi-yi for Yi, yi in zip(Y, y)]\n",
    "\n",
    "plt.plot(errors)"
   ]
  },
  {
   "cell_type": "code",
   "execution_count": 73,
   "metadata": {
    "collapsed": false
   },
   "outputs": [
    {
     "name": "stdout",
     "output_type": "stream",
     "text": [
      "Error mean: -0.219793269231 \n"
     ]
    }
   ],
   "source": [
    "import numpy as np\n",
    "\n",
    "print(\"Error mean: {} \".format(np.mean(errors)))"
   ]
  },
  {
   "cell_type": "markdown",
   "metadata": {},
   "source": [
    "### Tomorrow's prediction"
   ]
  },
  {
   "cell_type": "code",
   "execution_count": 74,
   "metadata": {
    "collapsed": false
   },
   "outputs": [
    {
     "name": "stdout",
     "output_type": "stream",
     "text": [
      "Tomorrow's predicted closing value [ 213.865732]\n"
     ]
    }
   ],
   "source": [
    "print(\"Tomorrow's predicted closing value {}\".format(neigh.predict([[60]])))"
   ]
  },
  {
   "cell_type": "markdown",
   "metadata": {},
   "source": [
    "### Trend"
   ]
  },
  {
   "cell_type": "code",
   "execution_count": 75,
   "metadata": {
    "collapsed": false
   },
   "outputs": [
    {
     "data": {
      "text/html": [
       "<div style=\"max-height:1000px;max-width:1500px;overflow:auto;\">\n",
       "<table border=\"1\" class=\"dataframe\">\n",
       "  <thead>\n",
       "    <tr style=\"text-align: right;\">\n",
       "      <th></th>\n",
       "      <th>Date</th>\n",
       "      <th>Open</th>\n",
       "      <th>High</th>\n",
       "      <th>Low</th>\n",
       "      <th>Close</th>\n",
       "      <th>Volume (BTC)</th>\n",
       "      <th>Volume (Currency)</th>\n",
       "      <th>Weighted Price</th>\n",
       "      <th>Trend</th>\n",
       "    </tr>\n",
       "  </thead>\n",
       "  <tbody>\n",
       "    <tr>\n",
       "      <th>47</th>\n",
       "      <td>2015-05-08</td>\n",
       "      <td>210.29998</td>\n",
       "      <td>218.00000</td>\n",
       "      <td>209.60000</td>\n",
       "      <td>214.01000</td>\n",
       "      <td>3105.615037</td>\n",
       "      <td>662858.469173</td>\n",
       "      <td>213.438711</td>\n",
       "      <td>+</td>\n",
       "    </tr>\n",
       "    <tr>\n",
       "      <th>48</th>\n",
       "      <td>2015-05-09</td>\n",
       "      <td>214.01000</td>\n",
       "      <td>217.36000</td>\n",
       "      <td>210.99999</td>\n",
       "      <td>213.55736</td>\n",
       "      <td>909.960985</td>\n",
       "      <td>194578.915411</td>\n",
       "      <td>213.832152</td>\n",
       "      <td>-</td>\n",
       "    </tr>\n",
       "    <tr>\n",
       "      <th>49</th>\n",
       "      <td>2015-05-10</td>\n",
       "      <td>213.55738</td>\n",
       "      <td>216.69370</td>\n",
       "      <td>211.37032</td>\n",
       "      <td>212.91127</td>\n",
       "      <td>987.074102</td>\n",
       "      <td>210837.080878</td>\n",
       "      <td>213.598027</td>\n",
       "      <td>-</td>\n",
       "    </tr>\n",
       "    <tr>\n",
       "      <th>50</th>\n",
       "      <td>2015-05-11</td>\n",
       "      <td>213.09996</td>\n",
       "      <td>217.39374</td>\n",
       "      <td>212.00000</td>\n",
       "      <td>215.00000</td>\n",
       "      <td>2612.180869</td>\n",
       "      <td>560448.878709</td>\n",
       "      <td>214.552095</td>\n",
       "      <td>+</td>\n",
       "    </tr>\n",
       "    <tr>\n",
       "      <th>51</th>\n",
       "      <td>2015-05-12</td>\n",
       "      <td>214.99999</td>\n",
       "      <td>215.72998</td>\n",
       "      <td>213.12104</td>\n",
       "      <td>213.85003</td>\n",
       "      <td>1839.101450</td>\n",
       "      <td>394344.393433</td>\n",
       "      <td>214.422317</td>\n",
       "      <td>-</td>\n",
       "    </tr>\n",
       "  </tbody>\n",
       "</table>\n",
       "</div>"
      ],
      "text/plain": [
       "          Date       Open       High        Low      Close  Volume (BTC)  \\\n",
       "47  2015-05-08  210.29998  218.00000  209.60000  214.01000   3105.615037   \n",
       "48  2015-05-09  214.01000  217.36000  210.99999  213.55736    909.960985   \n",
       "49  2015-05-10  213.55738  216.69370  211.37032  212.91127    987.074102   \n",
       "50  2015-05-11  213.09996  217.39374  212.00000  215.00000   2612.180869   \n",
       "51  2015-05-12  214.99999  215.72998  213.12104  213.85003   1839.101450   \n",
       "\n",
       "    Volume (Currency)  Weighted Price Trend  \n",
       "47      662858.469173      213.438711     +  \n",
       "48      194578.915411      213.832152     -  \n",
       "49      210837.080878      213.598027     -  \n",
       "50      560448.878709      214.552095     +  \n",
       "51      394344.393433      214.422317     -  "
      ]
     },
     "execution_count": 75,
     "metadata": {},
     "output_type": "execute_result"
    }
   ],
   "source": [
    "def trend(row):\n",
    "    if row.Open > row.Close:\n",
    "        return '-'\n",
    "    elif row.Open < row.Close:\n",
    "        return '+'\n",
    "    return '='\n",
    "\n",
    "bcdf['Trend'] = bcdf.apply(trend, axis=1)\n",
    "\n",
    "bcdf.tail()"
   ]
  },
  {
   "cell_type": "markdown",
   "metadata": {
    "collapsed": true
   },
   "source": [
    "### Simple Moving Avarage (SMV)"
   ]
  },
  {
   "cell_type": "code",
   "execution_count": 76,
   "metadata": {
    "collapsed": false
   },
   "outputs": [],
   "source": [
    "from __future__ import division\n",
    "\n",
    "bcdf['Sma'] = 0\n",
    "\n",
    "PERIOD_NUM = -20\n",
    "\n",
    "bcdf_small = bcdf[PERIOD_NUM:]\n",
    "\n",
    "bcdf_small.Sma = [sum(bcdf_small['Close'][0:i+1]) /(i+1) for i,_ in enumerate(bcdf_small.Close)]"
   ]
  },
  {
   "cell_type": "code",
   "execution_count": 77,
   "metadata": {
    "collapsed": false
   },
   "outputs": [
    {
     "data": {
      "text/html": [
       "<div style=\"max-height:1000px;max-width:1500px;overflow:auto;\">\n",
       "<table border=\"1\" class=\"dataframe\">\n",
       "  <thead>\n",
       "    <tr style=\"text-align: right;\">\n",
       "      <th></th>\n",
       "      <th>Date</th>\n",
       "      <th>Open</th>\n",
       "      <th>High</th>\n",
       "      <th>Low</th>\n",
       "      <th>Close</th>\n",
       "      <th>Volume (BTC)</th>\n",
       "      <th>Volume (Currency)</th>\n",
       "      <th>Weighted Price</th>\n",
       "      <th>Trend</th>\n",
       "      <th>Sma</th>\n",
       "    </tr>\n",
       "  </thead>\n",
       "  <tbody>\n",
       "    <tr>\n",
       "      <th>42</th>\n",
       "      <td>2015-05-03</td>\n",
       "      <td>209.52000</td>\n",
       "      <td>216.77454</td>\n",
       "      <td>208.68021</td>\n",
       "      <td>213.61000</td>\n",
       "      <td>1807.969953</td>\n",
       "      <td>386956.173818</td>\n",
       "      <td>214.027989</td>\n",
       "      <td>+</td>\n",
       "      <td>209.261298</td>\n",
       "    </tr>\n",
       "    <tr>\n",
       "      <th>43</th>\n",
       "      <td>2015-05-04</td>\n",
       "      <td>213.41490</td>\n",
       "      <td>216.99990</td>\n",
       "      <td>210.21000</td>\n",
       "      <td>212.86000</td>\n",
       "      <td>2230.388643</td>\n",
       "      <td>477373.739072</td>\n",
       "      <td>214.031640</td>\n",
       "      <td>-</td>\n",
       "      <td>209.561190</td>\n",
       "    </tr>\n",
       "    <tr>\n",
       "      <th>44</th>\n",
       "      <td>2015-05-05</td>\n",
       "      <td>213.14000</td>\n",
       "      <td>213.95000</td>\n",
       "      <td>208.00000</td>\n",
       "      <td>210.45000</td>\n",
       "      <td>3590.027827</td>\n",
       "      <td>755010.063988</td>\n",
       "      <td>210.307580</td>\n",
       "      <td>-</td>\n",
       "      <td>209.629560</td>\n",
       "    </tr>\n",
       "    <tr>\n",
       "      <th>45</th>\n",
       "      <td>2015-05-06</td>\n",
       "      <td>210.00000</td>\n",
       "      <td>210.89998</td>\n",
       "      <td>202.00000</td>\n",
       "      <td>204.00000</td>\n",
       "      <td>3235.799527</td>\n",
       "      <td>670318.459426</td>\n",
       "      <td>207.156980</td>\n",
       "      <td>-</td>\n",
       "      <td>209.227449</td>\n",
       "    </tr>\n",
       "    <tr>\n",
       "      <th>46</th>\n",
       "      <td>2015-05-07</td>\n",
       "      <td>203.00000</td>\n",
       "      <td>213.90475</td>\n",
       "      <td>201.61000</td>\n",
       "      <td>209.91000</td>\n",
       "      <td>3962.609508</td>\n",
       "      <td>821895.950489</td>\n",
       "      <td>207.412804</td>\n",
       "      <td>+</td>\n",
       "      <td>209.272952</td>\n",
       "    </tr>\n",
       "    <tr>\n",
       "      <th>47</th>\n",
       "      <td>2015-05-08</td>\n",
       "      <td>210.29998</td>\n",
       "      <td>218.00000</td>\n",
       "      <td>209.60000</td>\n",
       "      <td>214.01000</td>\n",
       "      <td>3105.615037</td>\n",
       "      <td>662858.469173</td>\n",
       "      <td>213.438711</td>\n",
       "      <td>+</td>\n",
       "      <td>209.569017</td>\n",
       "    </tr>\n",
       "    <tr>\n",
       "      <th>48</th>\n",
       "      <td>2015-05-09</td>\n",
       "      <td>214.01000</td>\n",
       "      <td>217.36000</td>\n",
       "      <td>210.99999</td>\n",
       "      <td>213.55736</td>\n",
       "      <td>909.960985</td>\n",
       "      <td>194578.915411</td>\n",
       "      <td>213.832152</td>\n",
       "      <td>-</td>\n",
       "      <td>209.803626</td>\n",
       "    </tr>\n",
       "    <tr>\n",
       "      <th>49</th>\n",
       "      <td>2015-05-10</td>\n",
       "      <td>213.55738</td>\n",
       "      <td>216.69370</td>\n",
       "      <td>211.37032</td>\n",
       "      <td>212.91127</td>\n",
       "      <td>987.074102</td>\n",
       "      <td>210837.080878</td>\n",
       "      <td>213.598027</td>\n",
       "      <td>-</td>\n",
       "      <td>209.976273</td>\n",
       "    </tr>\n",
       "    <tr>\n",
       "      <th>50</th>\n",
       "      <td>2015-05-11</td>\n",
       "      <td>213.09996</td>\n",
       "      <td>217.39374</td>\n",
       "      <td>212.00000</td>\n",
       "      <td>215.00000</td>\n",
       "      <td>2612.180869</td>\n",
       "      <td>560448.878709</td>\n",
       "      <td>214.552095</td>\n",
       "      <td>+</td>\n",
       "      <td>210.240679</td>\n",
       "    </tr>\n",
       "    <tr>\n",
       "      <th>51</th>\n",
       "      <td>2015-05-12</td>\n",
       "      <td>214.99999</td>\n",
       "      <td>215.72998</td>\n",
       "      <td>213.12104</td>\n",
       "      <td>213.85003</td>\n",
       "      <td>1839.101450</td>\n",
       "      <td>394344.393433</td>\n",
       "      <td>214.422317</td>\n",
       "      <td>-</td>\n",
       "      <td>210.421147</td>\n",
       "    </tr>\n",
       "  </tbody>\n",
       "</table>\n",
       "</div>"
      ],
      "text/plain": [
       "          Date       Open       High        Low      Close  Volume (BTC)  \\\n",
       "42  2015-05-03  209.52000  216.77454  208.68021  213.61000   1807.969953   \n",
       "43  2015-05-04  213.41490  216.99990  210.21000  212.86000   2230.388643   \n",
       "44  2015-05-05  213.14000  213.95000  208.00000  210.45000   3590.027827   \n",
       "45  2015-05-06  210.00000  210.89998  202.00000  204.00000   3235.799527   \n",
       "46  2015-05-07  203.00000  213.90475  201.61000  209.91000   3962.609508   \n",
       "47  2015-05-08  210.29998  218.00000  209.60000  214.01000   3105.615037   \n",
       "48  2015-05-09  214.01000  217.36000  210.99999  213.55736    909.960985   \n",
       "49  2015-05-10  213.55738  216.69370  211.37032  212.91127    987.074102   \n",
       "50  2015-05-11  213.09996  217.39374  212.00000  215.00000   2612.180869   \n",
       "51  2015-05-12  214.99999  215.72998  213.12104  213.85003   1839.101450   \n",
       "\n",
       "    Volume (Currency)  Weighted Price Trend         Sma  \n",
       "42      386956.173818      214.027989     +  209.261298  \n",
       "43      477373.739072      214.031640     -  209.561190  \n",
       "44      755010.063988      210.307580     -  209.629560  \n",
       "45      670318.459426      207.156980     -  209.227449  \n",
       "46      821895.950489      207.412804     +  209.272952  \n",
       "47      662858.469173      213.438711     +  209.569017  \n",
       "48      194578.915411      213.832152     -  209.803626  \n",
       "49      210837.080878      213.598027     -  209.976273  \n",
       "50      560448.878709      214.552095     +  210.240679  \n",
       "51      394344.393433      214.422317     -  210.421147  "
      ]
     },
     "execution_count": 77,
     "metadata": {},
     "output_type": "execute_result"
    }
   ],
   "source": [
    "bcdf_small.tail(10)"
   ]
  },
  {
   "cell_type": "code",
   "execution_count": 78,
   "metadata": {
    "collapsed": false
   },
   "outputs": [
    {
     "data": {
      "text/plain": [
       "<matplotlib.legend.Legend at 0x111c09ad0>"
      ]
     },
     "execution_count": 78,
     "metadata": {},
     "output_type": "execute_result"
    },
    {
     "data": {
      "image/png": "[encoded data removed]",
      "text/plain": [
       "<matplotlib.figure.Figure at 0x11214c050>"
      ]
     },
     "metadata": {},
     "output_type": "display_data"
    }
   ],
   "source": [
    "plt.title(\"Simple Moving Avarage\")\n",
    "plt.xlabel('period(days)')\n",
    "plt.plot(bcdf_small['Sma'], label='Sma')\n",
    "plt.plot(bcdf_small['Close'], label='Close')\n",
    "plt.legend()"
   ]
  },
  {
   "cell_type": "code",
   "execution_count": null,
   "metadata": {
    "collapsed": true
   },
   "outputs": [],
   "source": []
  },
  {
   "cell_type": "code",
   "execution_count": null,
   "metadata": {
    "collapsed": true
   },
   "outputs": [],
   "source": []
  }
 ],
 "metadata": {
  "kernelspec": {
   "display_name": "Python 2",
   "language": "python",
   "name": "python2"
  },
  "language_info": {
   "codemirror_mode": {
    "name": "ipython",
    "version": 2
   },
   "file_extension": ".py",
   "mimetype": "text/x-python",
   "name": "python",
   "nbconvert_exporter": "python",
   "pygments_lexer": "ipython2",
   "version": "2.7.7"
  }
 },
 "nbformat": 4,
 "nbformat_minor": 0
}
