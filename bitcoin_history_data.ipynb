{
 "cells": [
  {
   "cell_type": "markdown",
   "metadata": {},
   "source": [
    "\n",
    "## USD vs EUR"
   ]
  },
  {
   "cell_type": "code",
   "execution_count": 1,
   "metadata": {
    "collapsed": false
   },
   "outputs": [],
   "source": [
    "%matplotlib inline\n",
    "\n",
    "from datetime import datetime, timedelta\n",
    "from pandas import Index\n",
    "from pandas.io.data import DataReader\n",
    "from pandas.io.parsers import read_csv\n",
    "import matplotlib.pyplot as plt\n",
    "import requests\n",
    "\n",
    "FIN_SERVICE_PROVIDER = 'yahoo'\n",
    "PAST_DAYS = 60\n",
    "\n",
    "# SYMBOL = ['IBM', 'AAPL']\n",
    "SYMBOL = ['USD', 'EUR']\n",
    "\n",
    "# today\n",
    "t1 = datetime.now()\n",
    "# two months later\n",
    "t2 = t1 - timedelta(days=PAST_DAYS)\n",
    "\n",
    "df1  = DataReader(SYMBOL[0],  FIN_SERVICE_PROVIDER , t2, t1)\n",
    "df2  = DataReader(SYMBOL[1],  FIN_SERVICE_PROVIDER , t2, t1)"
   ]
  },
  {
   "cell_type": "code",
   "execution_count": 2,
   "metadata": {
    "collapsed": true
   },
   "outputs": [],
   "source": [
    "### USD"
   ]
  },
  {
   "cell_type": "code",
   "execution_count": 18,
   "metadata": {
    "collapsed": false
   },
   "outputs": [
    {
     "data": {
      "text/html": [
       "<div style=\"max-height:1000px;max-width:1500px;overflow:auto;\">\n",
       "<table border=\"1\" class=\"dataframe\">\n",
       "  <thead>\n",
       "    <tr style=\"text-align: right;\">\n",
       "      <th></th>\n",
       "      <th>Open</th>\n",
       "      <th>High</th>\n",
       "      <th>Low</th>\n",
       "      <th>Close</th>\n",
       "      <th>Volume</th>\n",
       "      <th>Adj Close</th>\n",
       "    </tr>\n",
       "    <tr>\n",
       "      <th>Date</th>\n",
       "      <th></th>\n",
       "      <th></th>\n",
       "      <th></th>\n",
       "      <th></th>\n",
       "      <th></th>\n",
       "      <th></th>\n",
       "    </tr>\n",
       "  </thead>\n",
       "  <tbody>\n",
       "    <tr>\n",
       "      <th>2015-03-09</th>\n",
       "      <td>94.29</td>\n",
       "      <td>94.43</td>\n",
       "      <td>93.83</td>\n",
       "      <td>94.33</td>\n",
       "      <td>3600</td>\n",
       "      <td>94.19749</td>\n",
       "    </tr>\n",
       "    <tr>\n",
       "      <th>2015-03-10</th>\n",
       "      <td>93.17</td>\n",
       "      <td>93.32</td>\n",
       "      <td>90.12</td>\n",
       "      <td>90.75</td>\n",
       "      <td>11500</td>\n",
       "      <td>90.62251</td>\n",
       "    </tr>\n",
       "    <tr>\n",
       "      <th>2015-03-11</th>\n",
       "      <td>91.80</td>\n",
       "      <td>93.45</td>\n",
       "      <td>91.62</td>\n",
       "      <td>91.93</td>\n",
       "      <td>4400</td>\n",
       "      <td>91.80086</td>\n",
       "    </tr>\n",
       "    <tr>\n",
       "      <th>2015-03-12</th>\n",
       "      <td>89.26</td>\n",
       "      <td>90.41</td>\n",
       "      <td>87.26</td>\n",
       "      <td>89.16</td>\n",
       "      <td>13800</td>\n",
       "      <td>89.03475</td>\n",
       "    </tr>\n",
       "    <tr>\n",
       "      <th>2015-03-13</th>\n",
       "      <td>88.23</td>\n",
       "      <td>90.60</td>\n",
       "      <td>87.52</td>\n",
       "      <td>90.60</td>\n",
       "      <td>5700</td>\n",
       "      <td>90.47272</td>\n",
       "    </tr>\n",
       "  </tbody>\n",
       "</table>\n",
       "</div>"
      ],
      "text/plain": [
       "             Open   High    Low  Close  Volume  Adj Close\n",
       "Date                                                     \n",
       "2015-03-09  94.29  94.43  93.83  94.33    3600   94.19749\n",
       "2015-03-10  93.17  93.32  90.12  90.75   11500   90.62251\n",
       "2015-03-11  91.80  93.45  91.62  91.93    4400   91.80086\n",
       "2015-03-12  89.26  90.41  87.26  89.16   13800   89.03475\n",
       "2015-03-13  88.23  90.60  87.52  90.60    5700   90.47272"
      ]
     },
     "execution_count": 18,
     "metadata": {},
     "output_type": "execute_result"
    }
   ],
   "source": [
    "df1.head()"
   ]
  },
  {
   "cell_type": "markdown",
   "metadata": {},
   "source": [
    "### EUR"
   ]
  },
  {
   "cell_type": "code",
   "execution_count": 17,
   "metadata": {
    "collapsed": false,
    "scrolled": true
   },
   "outputs": [
    {
     "data": {
      "text/html": [
       "<div style=\"max-height:1000px;max-width:1500px;overflow:auto;\">\n",
       "<table border=\"1\" class=\"dataframe\">\n",
       "  <thead>\n",
       "    <tr style=\"text-align: right;\">\n",
       "      <th></th>\n",
       "      <th>Open</th>\n",
       "      <th>High</th>\n",
       "      <th>Low</th>\n",
       "      <th>Close</th>\n",
       "      <th>Volume</th>\n",
       "      <th>Adj Close</th>\n",
       "    </tr>\n",
       "    <tr>\n",
       "      <th>Date</th>\n",
       "      <th></th>\n",
       "      <th></th>\n",
       "      <th></th>\n",
       "      <th></th>\n",
       "      <th></th>\n",
       "      <th></th>\n",
       "    </tr>\n",
       "  </thead>\n",
       "  <tbody>\n",
       "    <tr>\n",
       "      <th>2015-03-09</th>\n",
       "      <td>32.30</td>\n",
       "      <td>32.51</td>\n",
       "      <td>32.19</td>\n",
       "      <td>32.25</td>\n",
       "      <td>310400</td>\n",
       "      <td>31.58</td>\n",
       "    </tr>\n",
       "    <tr>\n",
       "      <th>2015-03-10</th>\n",
       "      <td>32.25</td>\n",
       "      <td>32.47</td>\n",
       "      <td>30.89</td>\n",
       "      <td>31.15</td>\n",
       "      <td>488900</td>\n",
       "      <td>30.50</td>\n",
       "    </tr>\n",
       "    <tr>\n",
       "      <th>2015-03-11</th>\n",
       "      <td>31.20</td>\n",
       "      <td>31.42</td>\n",
       "      <td>30.99</td>\n",
       "      <td>31.25</td>\n",
       "      <td>207200</td>\n",
       "      <td>30.60</td>\n",
       "    </tr>\n",
       "    <tr>\n",
       "      <th>2015-03-12</th>\n",
       "      <td>31.40</td>\n",
       "      <td>31.40</td>\n",
       "      <td>30.93</td>\n",
       "      <td>31.30</td>\n",
       "      <td>319500</td>\n",
       "      <td>30.65</td>\n",
       "    </tr>\n",
       "    <tr>\n",
       "      <th>2015-03-13</th>\n",
       "      <td>31.55</td>\n",
       "      <td>31.89</td>\n",
       "      <td>30.98</td>\n",
       "      <td>31.75</td>\n",
       "      <td>331600</td>\n",
       "      <td>31.09</td>\n",
       "    </tr>\n",
       "  </tbody>\n",
       "</table>\n",
       "</div>"
      ],
      "text/plain": [
       "             Open   High    Low  Close  Volume  Adj Close\n",
       "Date                                                     \n",
       "2015-03-09  32.30  32.51  32.19  32.25  310400      31.58\n",
       "2015-03-10  32.25  32.47  30.89  31.15  488900      30.50\n",
       "2015-03-11  31.20  31.42  30.99  31.25  207200      30.60\n",
       "2015-03-12  31.40  31.40  30.93  31.30  319500      30.65\n",
       "2015-03-13  31.55  31.89  30.98  31.75  331600      31.09"
      ]
     },
     "execution_count": 17,
     "metadata": {},
     "output_type": "execute_result"
    }
   ],
   "source": [
    "df2.head()"
   ]
  },
  {
   "cell_type": "code",
   "execution_count": 5,
   "metadata": {
    "collapsed": false,
    "scrolled": true
   },
   "outputs": [
    {
     "data": {
      "text/plain": [
       "[<matplotlib.lines.Line2D at 0x1081b8490>]"
      ]
     },
     "execution_count": 5,
     "metadata": {},
     "output_type": "execute_result"
    },
    {
     "data": {
      "image/png": "[encoded data removed]",
      "text/plain": [
       "<matplotlib.figure.Figure at 0x1049d2190>"
      ]
     },
     "metadata": {},
     "output_type": "display_data"
    },
    {
     "data": {
      "image/png": "[encoded data removed]",
      "text/plain": [
       "<matplotlib.figure.Figure at 0x108110a50>"
      ]
     },
     "metadata": {},
     "output_type": "display_data"
    }
   ],
   "source": [
    "plt.figure(1)\n",
    "plt.subplot(211)\n",
    "plt.title(SYMBOL[0])\n",
    "plt.xlabel('days')\n",
    "plt.ylabel('close val.')\n",
    "plt.plot(df1['Close'])\n",
    "\n",
    "plt.figure(2)\n",
    "plt.subplot(211)\n",
    "plt.title(SYMBOL[1])\n",
    "plt.xlabel('days')\n",
    "plt.ylabel('close val.')\n",
    "plt.plot(df2['Close'])"
   ]
  },
  {
   "cell_type": "markdown",
   "metadata": {
    "collapsed": true
   },
   "source": [
    "## Bitcoin History vs EUR"
   ]
  },
  {
   "cell_type": "code",
   "execution_count": 6,
   "metadata": {
    "collapsed": false
   },
   "outputs": [],
   "source": [
    "BIT_COIN_CSV_URL = 'http://www.quandl.com/api/v1/datasets/BCHARTS/KRAKENEUR.csv'\n",
    "\n",
    "bcdf = read_csv(BIT_COIN_CSV_URL)\n",
    "bcdf = bcdf[bcdf['Date']> t2.strftime(\"%Y-%m-%d\")]\n",
    "#bcdf = bcdf.iloc[::-1]\n",
    "bcdf = bcdf.sort(['Date'], ascending=[True])\n",
    "bcdf.index = Index(range(0, len(bcdf)))"
   ]
  },
  {
   "cell_type": "code",
   "execution_count": 7,
   "metadata": {
    "collapsed": false
   },
   "outputs": [
    {
     "data": {
      "text/plain": [
       "[<matplotlib.lines.Line2D at 0x1083020d0>]"
      ]
     },
     "execution_count": 7,
     "metadata": {},
     "output_type": "execute_result"
    },
    {
     "data": {
      "image/png": "[encoded data removed]",
      "text/plain": [
       "<matplotlib.figure.Figure at 0x1049c4b90>"
      ]
     },
     "metadata": {},
     "output_type": "display_data"
    }
   ],
   "source": [
    "plt.title(\"BitCoin\")\n",
    "plt.xlabel('days')\n",
    "plt.ylabel('close val.(EUR)')\n",
    "plt.plot(bcdf['Close'])"
   ]
  },
  {
   "cell_type": "markdown",
   "metadata": {},
   "source": [
    "### Close Price Statistics"
   ]
  },
  {
   "cell_type": "markdown",
   "metadata": {},
   "source": [
    "#### Mean (in 60 Days)"
   ]
  },
  {
   "cell_type": "code",
   "execution_count": 8,
   "metadata": {
    "collapsed": false
   },
   "outputs": [
    {
     "data": {
      "text/plain": [
       "228.4929806779661"
      ]
     },
     "execution_count": 8,
     "metadata": {},
     "output_type": "execute_result"
    }
   ],
   "source": [
    "bcdf['Close'].mean()"
   ]
  },
  {
   "cell_type": "markdown",
   "metadata": {},
   "source": [
    "#### Variance (in 60 days)"
   ]
  },
  {
   "cell_type": "code",
   "execution_count": 9,
   "metadata": {
    "collapsed": false,
    "scrolled": true
   },
   "outputs": [
    {
     "data": {
      "text/plain": [
       "466.33287018218783"
      ]
     },
     "execution_count": 9,
     "metadata": {},
     "output_type": "execute_result"
    }
   ],
   "source": [
    "bcdf['Close'].var()"
   ]
  },
  {
   "cell_type": "code",
   "execution_count": 10,
   "metadata": {
    "collapsed": false
   },
   "outputs": [
    {
     "data": {
      "image/png": "[encoded data removed]",
      "text/plain": [
       "<matplotlib.figure.Figure at 0x107681a50>"
      ]
     },
     "metadata": {},
     "output_type": "display_data"
    }
   ],
   "source": [
    "fig = plt.figure()\n",
    "ax1 = fig.add_subplot(1,3,1)\n",
    "ax1.set_title(SYMBOL[0])\n",
    "# ax1.title(SYMBOL[0])\n",
    "ax1 = df1.boxplot(column='Close', return_type='axes')\n",
    "\n",
    "ax2 = fig.add_subplot(1,3,2)\n",
    "# ax2.plt.title(SYMBOL[1])\n",
    "ax2.set_title(SYMBOL[1])\n",
    "ax2 = df2.boxplot(column='Close', return_type='axes')\n",
    "\n",
    "ax3 = fig.add_subplot(1,3,3)\n",
    "# ax3.plt.title(SYMBOL[1])\n",
    "ax3.set_title('Bit Coin')\n",
    "ax3 = bcdf.boxplot(column='Close', return_type='axes')\n",
    "\n"
   ]
  },
  {
   "cell_type": "markdown",
   "metadata": {
    "collapsed": true
   },
   "source": [
    "### Gains"
   ]
  },
  {
   "cell_type": "code",
   "execution_count": 11,
   "metadata": {
    "collapsed": false
   },
   "outputs": [
    {
     "name": "stdout",
     "output_type": "stream",
     "text": [
      "Real time value 217.8641 &euro;\n"
     ]
    }
   ],
   "source": [
    "REAL_TIME_VALE_API = 'http://api.coindesk.com/v1/bpi/currentprice.json'\n",
    "# REAL_TIME_VALE_API = \"http://btc.blockr.io/api/v1/coin/info\"\n",
    "r = requests.get(REAL_TIME_VALE_API)\n",
    "cur_value = 1\n",
    "if r.status_code == 200:\n",
    "    _j = r.json()['bpi']['EUR']\n",
    "    cur_value = float(_j['rate'])\n",
    "    print(\"Real time value {} {}\".format(_j['rate'], _j['symbol']))"
   ]
  },
  {
   "cell_type": "markdown",
   "metadata": {
    "collapsed": true
   },
   "source": [
    "Price per coin: €208.87"
   ]
  },
  {
   "cell_type": "code",
   "execution_count": 12,
   "metadata": {
    "collapsed": false
   },
   "outputs": [
    {
     "name": "stdout",
     "output_type": "stream",
     "text": [
      "Gain 8.9941\n"
     ]
    }
   ],
   "source": [
    "price_x_coin = 208.87\n",
    "gain= float(cur_value) - float(price_x_coin)\n",
    "print(\"Gain {}\".format(gain))"
   ]
  },
  {
   "cell_type": "markdown",
   "metadata": {
    "collapsed": true
   },
   "source": [
    "### Predict\n"
   ]
  },
  {
   "cell_type": "markdown",
   "metadata": {},
   "source": [
    "### Errors evaluation"
   ]
  },
  {
   "cell_type": "code",
   "execution_count": 13,
   "metadata": {
    "collapsed": false
   },
   "outputs": [
    {
     "data": {
      "text/plain": [
       "[<matplotlib.lines.Line2D at 0x109c83f10>]"
      ]
     },
     "execution_count": 13,
     "metadata": {},
     "output_type": "execute_result"
    },
    {
     "data": {
      "image/png": "[encoded data removed]",
      "text/plain": [
       "<matplotlib.figure.Figure at 0x109b31d90>"
      ]
     },
     "metadata": {},
     "output_type": "display_data"
    }
   ],
   "source": [
    "X = [ [x] for x in bcdf.index]\n",
    "y = bcdf['Close']\n",
    "\n",
    "from sklearn.neighbors import KNeighborsRegressor\n",
    "neigh = KNeighborsRegressor(n_neighbors=5)\n",
    "neigh.fit(X, list(y.values))\n",
    "\n",
    "Y = [list(neigh.predict([[i]]))[0] for i in range(len(X))]\n",
    "\n",
    "plt.title(\"Predicted BitCoin value\")\n",
    "plt.xlabel('days')\n",
    "plt.ylabel('close val.(EUR)')\n",
    "plt.plot(Y)"
   ]
  },
  {
   "cell_type": "code",
   "execution_count": 14,
   "metadata": {
    "collapsed": false
   },
   "outputs": [
    {
     "data": {
      "text/plain": [
       "[<matplotlib.lines.Line2D at 0x109daad90>]"
      ]
     },
     "execution_count": 14,
     "metadata": {},
     "output_type": "execute_result"
    },
    {
     "data": {
      "image/png": "[encoded data removed]",
      "text/plain": [
       "<matplotlib.figure.Figure at 0x1085d6a10>"
      ]
     },
     "metadata": {},
     "output_type": "display_data"
    }
   ],
   "source": [
    "errors = [ Yi-yi for Yi, yi in zip(Y, y)]\n",
    "\n",
    "plt.plot(errors)"
   ]
  },
  {
   "cell_type": "code",
   "execution_count": 15,
   "metadata": {
    "collapsed": false
   },
   "outputs": [
    {
     "name": "stdout",
     "output_type": "stream",
     "text": [
      "Error mean: 0.0235204067797 \n"
     ]
    }
   ],
   "source": [
    "import numpy as np\n",
    "\n",
    "print(\"Error mean: {} \".format(np.mean(errors)))"
   ]
  },
  {
   "cell_type": "markdown",
   "metadata": {},
   "source": [
    "### Tomorrow's prediction"
   ]
  },
  {
   "cell_type": "code",
   "execution_count": 16,
   "metadata": {
    "collapsed": false
   },
   "outputs": [
    {
     "name": "stdout",
     "output_type": "stream",
     "text": [
      "Tomorrow's predicted closing value [ 210.210356]\n"
     ]
    }
   ],
   "source": [
    "print(\"Tomorrow's predicted closing value {}\".format(neigh.predict([[60]])))"
   ]
  },
  {
   "cell_type": "code",
   "execution_count": null,
   "metadata": {
    "collapsed": true
   },
   "outputs": [],
   "source": []
  }
 ],
 "metadata": {
  "kernelspec": {
   "display_name": "Python 2",
   "language": "python",
   "name": "python2"
  },
  "language_info": {
   "codemirror_mode": {
    "name": "ipython",
    "version": 2
   },
   "file_extension": ".py",
   "mimetype": "text/x-python",
   "name": "python",
   "nbconvert_exporter": "python",
   "pygments_lexer": "ipython2",
   "version": "2.7.7"
  }
 },
 "nbformat": 4,
 "nbformat_minor": 0
}
