{
 "cells": [
  {
   "cell_type": "markdown",
   "metadata": {},
   "source": [
    "\n",
    "## USD vs EUR"
   ]
  },
  {
   "cell_type": "code",
   "execution_count": 33,
   "metadata": {
    "collapsed": false
   },
   "outputs": [
    {
     "name": "stdout",
     "output_type": "stream",
     "text": [
      "Today 2015-05-19 11:57:32.983946\n"
     ]
    }
   ],
   "source": [
    "%matplotlib inline\n",
    "\n",
    "from datetime import datetime, timedelta\n",
    "from pandas import Index\n",
    "from pandas.io.data import DataReader\n",
    "from pandas.io.parsers import read_csv\n",
    "import matplotlib.pyplot as plt\n",
    "import requests\n",
    "\n",
    "FIN_SERVICE_PROVIDER = 'yahoo'\n",
    "PAST_DAYS = 60\n",
    "\n",
    "# SYMBOL = ['IBM', 'AAPL']\n",
    "SYMBOL = ['USD', 'EUR']\n",
    "\n",
    "# today\n",
    "t1 = datetime.now()\n",
    "# two months later\n",
    "t2 = t1 - timedelta(days=PAST_DAYS)\n",
    "\n",
    "df1  = DataReader(SYMBOL[0],  FIN_SERVICE_PROVIDER , t2, t1)\n",
    "df2  = DataReader(SYMBOL[1],  FIN_SERVICE_PROVIDER , t2, t1)\n",
    "\n",
    "\n",
    "from datetime import datetime\n",
    "\n",
    "print('Today {}'.format(datetime.now()))"
   ]
  },
  {
   "cell_type": "markdown",
   "metadata": {
    "collapsed": true
   },
   "source": [
    "### USD"
   ]
  },
  {
   "cell_type": "code",
   "execution_count": 34,
   "metadata": {
    "collapsed": false
   },
   "outputs": [
    {
     "data": {
      "text/html": [
       "<div style=\"max-height:1000px;max-width:1500px;overflow:auto;\">\n",
       "<table border=\"1\" class=\"dataframe\">\n",
       "  <thead>\n",
       "    <tr style=\"text-align: right;\">\n",
       "      <th></th>\n",
       "      <th>Open</th>\n",
       "      <th>High</th>\n",
       "      <th>Low</th>\n",
       "      <th>Close</th>\n",
       "      <th>Volume</th>\n",
       "      <th>Adj Close</th>\n",
       "    </tr>\n",
       "    <tr>\n",
       "      <th>Date</th>\n",
       "      <th></th>\n",
       "      <th></th>\n",
       "      <th></th>\n",
       "      <th></th>\n",
       "      <th></th>\n",
       "      <th></th>\n",
       "    </tr>\n",
       "  </thead>\n",
       "  <tbody>\n",
       "    <tr>\n",
       "      <th>2015-03-20</th>\n",
       "      <td>92.85</td>\n",
       "      <td>96.37</td>\n",
       "      <td>92.85</td>\n",
       "      <td>95.68</td>\n",
       "      <td>3800</td>\n",
       "      <td>95.54559</td>\n",
       "    </tr>\n",
       "    <tr>\n",
       "      <th>2015-03-23</th>\n",
       "      <td>96.17</td>\n",
       "      <td>96.33</td>\n",
       "      <td>93.99</td>\n",
       "      <td>93.99</td>\n",
       "      <td>9000</td>\n",
       "      <td>93.85796</td>\n",
       "    </tr>\n",
       "    <tr>\n",
       "      <th>2015-03-24</th>\n",
       "      <td>95.23</td>\n",
       "      <td>95.23</td>\n",
       "      <td>93.12</td>\n",
       "      <td>93.25</td>\n",
       "      <td>1900</td>\n",
       "      <td>93.11900</td>\n",
       "    </tr>\n",
       "    <tr>\n",
       "      <th>2015-03-25</th>\n",
       "      <td>93.26</td>\n",
       "      <td>93.26</td>\n",
       "      <td>83.90</td>\n",
       "      <td>83.90</td>\n",
       "      <td>15300</td>\n",
       "      <td>83.90000</td>\n",
       "    </tr>\n",
       "    <tr>\n",
       "      <th>2015-03-26</th>\n",
       "      <td>81.70</td>\n",
       "      <td>85.30</td>\n",
       "      <td>79.39</td>\n",
       "      <td>84.51</td>\n",
       "      <td>11400</td>\n",
       "      <td>84.51000</td>\n",
       "    </tr>\n",
       "  </tbody>\n",
       "</table>\n",
       "</div>"
      ],
      "text/plain": [
       "             Open   High    Low  Close  Volume  Adj Close\n",
       "Date                                                     \n",
       "2015-03-20  92.85  96.37  92.85  95.68    3800   95.54559\n",
       "2015-03-23  96.17  96.33  93.99  93.99    9000   93.85796\n",
       "2015-03-24  95.23  95.23  93.12  93.25    1900   93.11900\n",
       "2015-03-25  93.26  93.26  83.90  83.90   15300   83.90000\n",
       "2015-03-26  81.70  85.30  79.39  84.51   11400   84.51000"
      ]
     },
     "execution_count": 34,
     "metadata": {},
     "output_type": "execute_result"
    }
   ],
   "source": [
    "df1.head()"
   ]
  },
  {
   "cell_type": "markdown",
   "metadata": {},
   "source": [
    "### EUR"
   ]
  },
  {
   "cell_type": "code",
   "execution_count": 35,
   "metadata": {
    "collapsed": false,
    "scrolled": true
   },
   "outputs": [
    {
     "data": {
      "text/html": [
       "<div style=\"max-height:1000px;max-width:1500px;overflow:auto;\">\n",
       "<table border=\"1\" class=\"dataframe\">\n",
       "  <thead>\n",
       "    <tr style=\"text-align: right;\">\n",
       "      <th></th>\n",
       "      <th>Open</th>\n",
       "      <th>High</th>\n",
       "      <th>Low</th>\n",
       "      <th>Close</th>\n",
       "      <th>Volume</th>\n",
       "      <th>Adj Close</th>\n",
       "    </tr>\n",
       "    <tr>\n",
       "      <th>Date</th>\n",
       "      <th></th>\n",
       "      <th></th>\n",
       "      <th></th>\n",
       "      <th></th>\n",
       "      <th></th>\n",
       "      <th></th>\n",
       "    </tr>\n",
       "  </thead>\n",
       "  <tbody>\n",
       "    <tr>\n",
       "      <th>2015-03-20</th>\n",
       "      <td>33.09</td>\n",
       "      <td>33.20</td>\n",
       "      <td>32.53</td>\n",
       "      <td>33.00</td>\n",
       "      <td>825500</td>\n",
       "      <td>32.30</td>\n",
       "    </tr>\n",
       "    <tr>\n",
       "      <th>2015-03-23</th>\n",
       "      <td>33.00</td>\n",
       "      <td>33.16</td>\n",
       "      <td>32.71</td>\n",
       "      <td>32.87</td>\n",
       "      <td>494500</td>\n",
       "      <td>32.18</td>\n",
       "    </tr>\n",
       "    <tr>\n",
       "      <th>2015-03-24</th>\n",
       "      <td>32.98</td>\n",
       "      <td>32.98</td>\n",
       "      <td>32.61</td>\n",
       "      <td>32.69</td>\n",
       "      <td>439000</td>\n",
       "      <td>32.00</td>\n",
       "    </tr>\n",
       "    <tr>\n",
       "      <th>2015-03-25</th>\n",
       "      <td>32.73</td>\n",
       "      <td>32.87</td>\n",
       "      <td>32.00</td>\n",
       "      <td>32.29</td>\n",
       "      <td>283400</td>\n",
       "      <td>31.61</td>\n",
       "    </tr>\n",
       "    <tr>\n",
       "      <th>2015-03-26</th>\n",
       "      <td>32.27</td>\n",
       "      <td>32.27</td>\n",
       "      <td>31.47</td>\n",
       "      <td>31.50</td>\n",
       "      <td>403000</td>\n",
       "      <td>30.83</td>\n",
       "    </tr>\n",
       "  </tbody>\n",
       "</table>\n",
       "</div>"
      ],
      "text/plain": [
       "             Open   High    Low  Close  Volume  Adj Close\n",
       "Date                                                     \n",
       "2015-03-20  33.09  33.20  32.53  33.00  825500      32.30\n",
       "2015-03-23  33.00  33.16  32.71  32.87  494500      32.18\n",
       "2015-03-24  32.98  32.98  32.61  32.69  439000      32.00\n",
       "2015-03-25  32.73  32.87  32.00  32.29  283400      31.61\n",
       "2015-03-26  32.27  32.27  31.47  31.50  403000      30.83"
      ]
     },
     "execution_count": 35,
     "metadata": {},
     "output_type": "execute_result"
    }
   ],
   "source": [
    "df2.head()"
   ]
  },
  {
   "cell_type": "code",
   "execution_count": 36,
   "metadata": {
    "collapsed": false,
    "scrolled": true
   },
   "outputs": [
    {
     "data": {
      "text/plain": [
       "[<matplotlib.lines.Line2D at 0x10ab9ec90>]"
      ]
     },
     "execution_count": 36,
     "metadata": {},
     "output_type": "execute_result"
    },
    {
     "data": {
      "image/png": "[encoded data removed]",
      "text/plain": [
       "<matplotlib.figure.Figure at 0x10aac5a90>"
      ]
     },
     "metadata": {},
     "output_type": "display_data"
    },
    {
     "data": {
      "image/png": "[encoded data removed]",
      "text/plain": [
       "<matplotlib.figure.Figure at 0x10acaca50>"
      ]
     },
     "metadata": {},
     "output_type": "display_data"
    }
   ],
   "source": [
    "plt.figure(1)\n",
    "plt.subplot(211)\n",
    "plt.title(SYMBOL[0])\n",
    "plt.xlabel('days')\n",
    "plt.ylabel('close val.')\n",
    "plt.plot(df1['Close'])\n",
    "\n",
    "plt.figure(2)\n",
    "plt.subplot(211)\n",
    "plt.title(SYMBOL[1])\n",
    "plt.xlabel('days')\n",
    "plt.ylabel('close val.')\n",
    "plt.plot(df2['Close'])"
   ]
  },
  {
   "cell_type": "markdown",
   "metadata": {
    "collapsed": true
   },
   "source": [
    "## Bitcoin History vs EUR"
   ]
  },
  {
   "cell_type": "code",
   "execution_count": 37,
   "metadata": {
    "collapsed": false
   },
   "outputs": [],
   "source": [
    "BIT_COIN_CSV_URL = 'http://www.quandl.com/api/v1/datasets/BCHARTS/KRAKENEUR.csv'\n",
    "\n",
    "bcdf = read_csv(BIT_COIN_CSV_URL)\n",
    "bcdf = bcdf[bcdf['Date']> t2.strftime(\"%Y-%m-%d\")]\n",
    "#bcdf = bcdf.iloc[::-1]\n",
    "bcdf = bcdf.sort(['Date'], ascending=[True])\n",
    "bcdf.index = Index(range(0, len(bcdf)))"
   ]
  },
  {
   "cell_type": "code",
   "execution_count": 38,
   "metadata": {
    "collapsed": false
   },
   "outputs": [
    {
     "data": {
      "text/plain": [
       "[<matplotlib.lines.Line2D at 0x10cac6ad0>]"
      ]
     },
     "execution_count": 38,
     "metadata": {},
     "output_type": "execute_result"
    },
    {
     "data": {
      "image/png": "[encoded data removed]",
      "text/plain": [
       "<matplotlib.figure.Figure at 0x10a62a590>"
      ]
     },
     "metadata": {},
     "output_type": "display_data"
    }
   ],
   "source": [
    "plt.title(\"BitCoin\")\n",
    "plt.xlabel('days')\n",
    "plt.ylabel('close val.(EUR)')\n",
    "plt.plot(bcdf['Close'])"
   ]
  },
  {
   "cell_type": "markdown",
   "metadata": {},
   "source": [
    "### Close Price Statistics"
   ]
  },
  {
   "cell_type": "markdown",
   "metadata": {},
   "source": [
    "#### Mean (in 60 Days)"
   ]
  },
  {
   "cell_type": "code",
   "execution_count": 39,
   "metadata": {
    "collapsed": false
   },
   "outputs": [
    {
     "data": {
      "text/plain": [
       "219.43077811320757"
      ]
     },
     "execution_count": 39,
     "metadata": {},
     "output_type": "execute_result"
    }
   ],
   "source": [
    "bcdf['Close'].mean()"
   ]
  },
  {
   "cell_type": "markdown",
   "metadata": {},
   "source": [
    "#### Variance (in 60 days)"
   ]
  },
  {
   "cell_type": "code",
   "execution_count": 40,
   "metadata": {
    "collapsed": false,
    "scrolled": true
   },
   "outputs": [
    {
     "data": {
      "text/plain": [
       "129.17569550374844"
      ]
     },
     "execution_count": 40,
     "metadata": {},
     "output_type": "execute_result"
    }
   ],
   "source": [
    "bcdf['Close'].var()"
   ]
  },
  {
   "cell_type": "code",
   "execution_count": 41,
   "metadata": {
    "collapsed": false
   },
   "outputs": [
    {
     "data": {
      "image/png": "[encoded data removed]",
      "text/plain": [
       "<matplotlib.figure.Figure at 0x10a62add0>"
      ]
     },
     "metadata": {},
     "output_type": "display_data"
    }
   ],
   "source": [
    "fig = plt.figure()\n",
    "ax1 = fig.add_subplot(1,3,1)\n",
    "ax1.set_title(SYMBOL[0])\n",
    "# ax1.title(SYMBOL[0])\n",
    "ax1 = df1.boxplot(column='Close', return_type='axes')\n",
    "\n",
    "ax2 = fig.add_subplot(1,3,2)\n",
    "# ax2.plt.title(SYMBOL[1])\n",
    "ax2.set_title(SYMBOL[1])\n",
    "ax2 = df2.boxplot(column='Close', return_type='axes')\n",
    "\n",
    "ax3 = fig.add_subplot(1,3,3)\n",
    "# ax3.plt.title(SYMBOL[1])\n",
    "ax3.set_title('Bit Coin')\n",
    "ax3 = bcdf.boxplot(column='Close', return_type='axes')\n",
    "\n"
   ]
  },
  {
   "cell_type": "markdown",
   "metadata": {
    "collapsed": true
   },
   "source": [
    "### Gains"
   ]
  },
  {
   "cell_type": "code",
   "execution_count": 42,
   "metadata": {
    "collapsed": false
   },
   "outputs": [
    {
     "name": "stdout",
     "output_type": "stream",
     "text": [
      "Real time value 208.1232 &euro;\n"
     ]
    }
   ],
   "source": [
    "REAL_TIME_VALE_API = 'http://api.coindesk.com/v1/bpi/currentprice.json'\n",
    "# REAL_TIME_VALE_API = \"http://btc.blockr.io/api/v1/coin/info\"\n",
    "r = requests.get(REAL_TIME_VALE_API)\n",
    "cur_value = 1\n",
    "if r.status_code == 200:\n",
    "    _j = r.json()['bpi']['EUR']\n",
    "    cur_value = float(_j['rate'])\n",
    "    print(\"Real time value {} {}\".format(_j['rate'], _j['symbol']))"
   ]
  },
  {
   "cell_type": "markdown",
   "metadata": {
    "collapsed": true
   },
   "source": [
    "Price per coin: **€208.87** \n",
    "This is the value in Euro I invested in **bitcoin**."
   ]
  },
  {
   "cell_type": "code",
   "execution_count": 43,
   "metadata": {
    "collapsed": false
   },
   "outputs": [
    {
     "name": "stdout",
     "output_type": "stream",
     "text": [
      "Gain -0.7468\n",
      "-0.357542969311%\n"
     ]
    }
   ],
   "source": [
    "price_x_coin = 208.87\n",
    "gain= float(cur_value) - float(price_x_coin)\n",
    "print(\"Gain {}\".format(gain))\n",
    "\n",
    "print(\"{}%\".format(gain*100/price_x_coin))"
   ]
  },
  {
   "cell_type": "markdown",
   "metadata": {
    "collapsed": true
   },
   "source": [
    "### Predict\n"
   ]
  },
  {
   "cell_type": "markdown",
   "metadata": {},
   "source": [
    "### Errors evaluation"
   ]
  },
  {
   "cell_type": "code",
   "execution_count": 44,
   "metadata": {
    "collapsed": false
   },
   "outputs": [
    {
     "data": {
      "text/plain": [
       "[<matplotlib.lines.Line2D at 0x10ce99390>]"
      ]
     },
     "execution_count": 44,
     "metadata": {},
     "output_type": "execute_result"
    },
    {
     "data": {
      "image/png": "[encoded data removed]",
      "text/plain": [
       "<matplotlib.figure.Figure at 0x10ac036d0>"
      ]
     },
     "metadata": {},
     "output_type": "display_data"
    }
   ],
   "source": [
    "X = [ [x] for x in bcdf.index]\n",
    "y = bcdf['Close']\n",
    "\n",
    "from sklearn.neighbors import KNeighborsRegressor\n",
    "neigh = KNeighborsRegressor(n_neighbors=5)\n",
    "neigh.fit(X, list(y.values))\n",
    "\n",
    "Y = [list(neigh.predict([[i]]))[0] for i in range(len(X))]\n",
    "\n",
    "plt.title(\"Predicted BitCoin value\")\n",
    "plt.xlabel('days')\n",
    "plt.ylabel('close val.(EUR)')\n",
    "plt.plot(Y)"
   ]
  },
  {
   "cell_type": "code",
   "execution_count": 45,
   "metadata": {
    "collapsed": false
   },
   "outputs": [
    {
     "data": {
      "text/plain": [
       "[<matplotlib.lines.Line2D at 0x10ab6fd50>]"
      ]
     },
     "execution_count": 45,
     "metadata": {},
     "output_type": "execute_result"
    },
    {
     "data": {
      "image/png": "[encoded data removed]",
      "text/plain": [
       "<matplotlib.figure.Figure at 0x10a943ed0>"
      ]
     },
     "metadata": {},
     "output_type": "display_data"
    }
   ],
   "source": [
    "errors = [ Yi-yi for Yi, yi in zip(Y, y)]\n",
    "\n",
    "plt.plot(errors)"
   ]
  },
  {
   "cell_type": "code",
   "execution_count": 46,
   "metadata": {
    "collapsed": false
   },
   "outputs": [
    {
     "name": "stdout",
     "output_type": "stream",
     "text": [
      "Error mean: -0.201473207547 \n"
     ]
    }
   ],
   "source": [
    "import numpy as np\n",
    "\n",
    "print(\"Error mean: {} \".format(np.mean(errors)))"
   ]
  },
  {
   "cell_type": "markdown",
   "metadata": {},
   "source": [
    "### Tomorrow's prediction"
   ]
  },
  {
   "cell_type": "code",
   "execution_count": 47,
   "metadata": {
    "collapsed": false
   },
   "outputs": [
    {
     "name": "stdout",
     "output_type": "stream",
     "text": [
      "Tomorrow's predicted closing value [ 213.865732]\n"
     ]
    }
   ],
   "source": [
    "print(\"Tomorrow's predicted closing value {}\".format(neigh.predict([[60]])))"
   ]
  },
  {
   "cell_type": "code",
   "execution_count": null,
   "metadata": {
    "collapsed": true
   },
   "outputs": [],
   "source": []
  }
 ],
 "metadata": {
  "kernelspec": {
   "display_name": "Python 2",
   "language": "python",
   "name": "python2"
  },
  "language_info": {
   "codemirror_mode": {
    "name": "ipython",
    "version": 2
   },
   "file_extension": ".py",
   "mimetype": "text/x-python",
   "name": "python",
   "nbconvert_exporter": "python",
   "pygments_lexer": "ipython2",
   "version": "2.7.7"
  }
 },
 "nbformat": 4,
 "nbformat_minor": 0
}
